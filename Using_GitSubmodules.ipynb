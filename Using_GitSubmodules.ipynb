{
 "cells": [
  {
   "cell_type": "markdown",
   "metadata": {},
   "source": [
    "## Using Git submodules"
   ]
  },
  {
   "cell_type": "markdown",
   "metadata": {},
   "source": [
    "Illustration to have a git repository inside another git repository.\n",
    "\n",
    "> The repository within another repository is called **submodule**\n",
    "\n",
    "> First, create the submodule repository **DjangoAPI-TravisCI-submodule** and push it\n",
    "\n",
    "> Initialize the parent repository and add the submodule (remove the submodule if it is alrady present locally)\n",
    "```bash\n",
    "rm DjangoAPI-TravisCI-submodule\n",
    "git submodule add https://github.com/as641651/DjangoAPI-TravisCI-submodule.git\n",
    "git commit -m \"Added submodule\"\n",
    "git push\n",
    "```"
   ]
  },
  {
   "cell_type": "markdown",
   "metadata": {},
   "source": [
    "The changes in the submodule have to be pushed in the submodule repository. The parent repository should then add the new version of submodule and push it."
   ]
  },
  {
   "cell_type": "code",
   "execution_count": null,
   "metadata": {},
   "outputs": [],
   "source": []
  }
 ],
 "metadata": {
  "kernelspec": {
   "display_name": "Python 3",
   "language": "python",
   "name": "python3"
  },
  "language_info": {
   "codemirror_mode": {
    "name": "ipython",
    "version": 3
   },
   "file_extension": ".py",
   "mimetype": "text/x-python",
   "name": "python",
   "nbconvert_exporter": "python",
   "pygments_lexer": "ipython3",
   "version": "3.4.3"
  }
 },
 "nbformat": 4,
 "nbformat_minor": 2
}
