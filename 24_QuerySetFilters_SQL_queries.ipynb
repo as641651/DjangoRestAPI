{
 "cells": [
  {
   "cell_type": "markdown",
   "metadata": {},
   "source": [
    "## Queryset filters"
   ]
  },
  {
   "cell_type": "markdown",
   "metadata": {},
   "source": [
    "Django build query attributes based on model fields"
   ]
  },
  {
   "cell_type": "markdown",
   "metadata": {},
   "source": [
    "### Consider Tags and Recipe model"
   ]
  },
  {
   "cell_type": "markdown",
   "metadata": {},
   "source": [
    "> 1) **Recipe model** had a foregin key pointing to **Tags model**, relating with **primary key** (id)\n",
    "\n",
    "> 2) Querying for **specific tags in recipe model**. \n",
    "```python\n",
    "# RecipeViewSet\n",
    "# tags.id in []\n",
    "self.queryset.filter(tags__id__in=[2,3])\n",
    "```\n",
    "> 3) **Reverse mapping of foreign key fields is also possible**. Eg, Tag Model does not contain Recipe field. But because of the relation to Tag from Recipe, we can do the following \n",
    "```python\n",
    "# TagsViewSet\n",
    "self.queryset.filter(recipe__isnull=False)\n",
    "```"
   ]
  },
  {
   "cell_type": "markdown",
   "metadata": {},
   "source": [
    "### Other filter lookups and their equivalent SQL query\n",
    "\n",
    "> Refer this [documentation](https://docs.djangoproject.com/en/2.1/ref/models/querysets/#field-lookups)"
   ]
  },
  {
   "cell_type": "code",
   "execution_count": null,
   "metadata": {},
   "outputs": [],
   "source": []
  }
 ],
 "metadata": {
  "kernelspec": {
   "display_name": "Python 3",
   "language": "python",
   "name": "python3"
  },
  "language_info": {
   "codemirror_mode": {
    "name": "ipython",
    "version": 3
   },
   "file_extension": ".py",
   "mimetype": "text/x-python",
   "name": "python",
   "nbconvert_exporter": "python",
   "pygments_lexer": "ipython3",
   "version": "3.4.3"
  }
 },
 "nbformat": 4,
 "nbformat_minor": 2
}
