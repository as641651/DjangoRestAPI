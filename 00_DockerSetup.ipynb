{
 "cells": [
  {
   "cell_type": "markdown",
   "metadata": {},
   "source": [
    "## Docker Setup\n",
    "\n",
    "This is a basic setup. More dependencies will be added as and when needed along the project\n",
    "\n",
    "### Python requirements\n",
    "\n",
    "> Find the latest version of the required packages from [PyPI](https://pypi.org/search/)\n",
    "```bash\n",
    "django>=2.1.3,<2.2.0\n",
    "djangorestframework>=3.9.0,<3.10.0\n",
    "```\n"
   ]
  },
  {
   "cell_type": "markdown",
   "metadata": {},
   "source": [
    "### Set up Docker image"
   ]
  },
  {
   "cell_type": "markdown",
   "metadata": {},
   "source": [
    "> 1) Create a **Dockerfile** inside **DjangoAPI-TravisCI-submodule**\n",
    "\n",
    "<div style=\"border:2px solid;margin:0 50px 0 50px\" ></div>   \n",
    "\n",
    "```dockerfile\n",
    "    FROM python:3.7-alpine\n",
    "    MAINTAINER senesence\n",
    "\n",
    "    # Ensures python output is print to the terminal\n",
    "    ENV PYTHONUNBUFFERED 1\n",
    "\n",
    "    COPY ./requirements.txt /requirements.txt\n",
    "    RUN pip install -r /requirements.txt\n",
    "\n",
    "    RUN mkdir /app\n",
    "    WORKDIR /app\n",
    "    COPY ./app /app\n",
    "\n",
    "    # Create a user. -D represents this user can only run apps.\n",
    "    # This is recommended. Otherwise, the image will be run from root account\n",
    "    RUN adduser -D user\n",
    "    # Switch to this user\n",
    "    USER user\n",
    "```\n",
    "<div style=\"border:2px solid;margin:0 50px 0 50px\" ></div> "
   ]
  },
  {
   "cell_type": "markdown",
   "metadata": {},
   "source": [
    "### Using docker compose to build and run services\n",
    "\n",
    "> 1) Docker compose is useful when we have to build and run multiple services. For eg, we may want the server and database as a different service\n",
    "\n",
    "> 2) Create a **docker-compose.yml** file\n",
    "\n",
    "<div style=\"border:2px solid;margin:0 50px 0 50px\" ></div> \n",
    "\n",
    "```yml\n",
    "    version: \"3\"\n",
    "\n",
    "    # Default image name will be djangoapi-travisci-submodule_app\n",
    "    #build 'docker-compose' build from this directory\n",
    "    #run 'docker-compose run app sh' \n",
    "    services:\n",
    "      app:\n",
    "        build:\n",
    "          # path to dockerfile\n",
    "          context: .\n",
    "        ports:\n",
    "          # map port 8000 in host machine to 8000 in container\n",
    "          - \"8000:8000\"\n",
    "        volumes:\n",
    "          #synchronize app directory\n",
    "          - ./app:/app\n",
    "          #run server listening on all ip address on docker and map it to port 8000,\n",
    "          # which is inturn forwarded to port 8000 on host machine\n",
    "        command: >\n",
    "          sh -c \"python manage.py runserver 0.0.0.0:8000\"\n",
    "```\n",
    "\n",
    "<div style=\"border:2px solid;margin:0 50px 0 50px\" ></div> "
   ]
  },
  {
   "cell_type": "markdown",
   "metadata": {},
   "source": [
    ">3) **Build** from directory containing .yml file\n",
    "```bash\n",
    "docker-compose build\n",
    "```\n",
    ">4) **Run**. Specify the service name. Otherwise, all services will be run\n",
    "\n",
    ">> a) This does not forward port\n",
    "```bash\n",
    "docker-compose run app sh\n",
    "```\n",
    "\n",
    ">> b) This forwards ports but does not allow logging into the container terminal or modify run command\n",
    "```bash\n",
    "docker-compose up app\n",
    "```\n",
    "\n",
    ">> c) To forward port and at the same time log in to the container terminal, use\n",
    "```bash\n",
    "docker run -it -p 8000:8000 -v PWD/app/:/app djangoapi-travisci-submodule_app sh\n",
    "python manage.py runserver 0.0.0.0:8000 #requires 0.0.0.0 to be added to allowed host\n",
    "```\n",
    "\n",
    "> 5) **Start docker container and create django project inside app folder. Editing them locally will be reflected in the contrainer**"
   ]
  },
  {
   "cell_type": "markdown",
   "metadata": {},
   "source": []
  }
 ],
 "metadata": {
  "kernelspec": {
   "display_name": "Python 3",
   "language": "python",
   "name": "python3"
  },
  "language_info": {
   "codemirror_mode": {
    "name": "ipython",
    "version": 3
   },
   "file_extension": ".py",
   "mimetype": "text/x-python",
   "name": "python",
   "nbconvert_exporter": "python",
   "pygments_lexer": "ipython3",
   "version": "3.4.3"
  }
 },
 "nbformat": 4,
 "nbformat_minor": 2
}
