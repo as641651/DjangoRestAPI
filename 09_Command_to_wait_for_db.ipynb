{
 "cells": [
  {
   "cell_type": "markdown",
   "metadata": {},
   "source": [
    "## Command to wait for database connection\n",
    "\n",
    " > 1) **Before we run the server**, we have to **check if the database is connected** in the docker-compose file.\n",
    " \n",
    " > 2) To do this, we need something that can be executed from terminal. We can make something like this work,\n",
    " ```bash\n",
    " python manage.py wait_for_db\n",
    " python manage.py runserver\n",
    " ```"
   ]
  },
  {
   "cell_type": "markdown",
   "metadata": {},
   "source": [
    "> 3) Before writing this function, in TDD, **we first have to find out that part of the code that connects to the database**\n",
    "\n",
    ">4) The connected database object can be obtained as\n",
    "\n",
    "```python\n",
    "        from django.db import connections\n",
    "        # get the database with keyword 'default' from settings.py\n",
    "        db_conn = connections['default']\n",
    "```\n",
    ">> When this database is not available **OperationalError** is raised"
   ]
  },
  {
   "cell_type": "markdown",
   "metadata": {},
   "source": [
    "> 5) Sometimes databases can take long time to connect. We may not want to actually connect to a database while testing. In such cases, we can **mock a database connection**\n",
    "\n",
    "> 6) To do this, we ll have to dig into the source code to find out what happens when **connections['default']** is called,\n",
    "\n",
    ">> The **connections** attribute is defined in **Django/db/\\__init\\__.py** as\n",
    "```bash\n",
    "connections = ConnectionHandler()\n",
    "```\n",
    ">> **connections['default']** calls the **\\__getitem\\__** method in **ConnectionHandler** class(advanced python concepts). In this case, we see that the \\__getitem\\__ method has been redefined in the **ConnectionHandler** class\n",
    "\n",
    "> 7) Hence, we can create a patch like this in our test case"
   ]
  },
  {
   "cell_type": "markdown",
   "metadata": {},
   "source": [
    "<div style=\"border:2px solid;margin:0 20px 0 20px\" ></div> \n",
    "\n",
    "```python\n",
    "from unittest.mock import patch\n",
    "from django.core.management import call_command\n",
    "from django.db.utils import OperationalError\n",
    "from django.test import TestCase\n",
    "\n",
    "\n",
    "class CommandTests(TestCase):\n",
    "    \"\"\" we create a command wait_for_db to check if database is\n",
    "    available before running server. Here we test if this command\"\"\"\n",
    "\n",
    "    # check if the command works when db is available\n",
    "    def test_wait_for_db_ready(self):\n",
    "        with patch('django.db.utils.ConnectionHandler.__getitem__') as gi:\n",
    "            gi.return_value = True\n",
    "            call_command('wait_for_db')\n",
    "            self.assertEqual(gi.call_count, 1)\n",
    "\n",
    "    # check if command works when db is not connected\n",
    "    # by default, we ll have sleep function to wait for 1s if database is not available\n",
    "    # we dont want this sleep to wait for this test\n",
    "    @patch('time.sleep', return_value=True)\n",
    "    def test_wait_for_db(self, ts):\n",
    "        with patch('django.db.utils.ConnectionHandler.__getitem__') as gi:\n",
    "            # make the patch return error for first five calls\n",
    "            # and return true on sixth call\n",
    "            gi.side_effect = [OperationalError]*5 + [True]\n",
    "            call_command('wait_for_db')\n",
    "            self.assertEqual(gi.call_count, 6)\n",
    "```\n",
    "<div style=\"border:2px solid;margin:0 20px 0 20px\" ></div> \n"
   ]
  },
  {
   "cell_type": "markdown",
   "metadata": {},
   "source": [
    "### wait_for_db command \n",
    "\n",
    "Refer Django custom commands notes "
   ]
  },
  {
   "cell_type": "markdown",
   "metadata": {},
   "source": [
    "> 1) Create a file **core/management/commands/wait_for_db.py**\n",
    "\n",
    "> 2) Add **\\__init\\__.py** in the folders **management** and **commands** if it is not already available"
   ]
  },
  {
   "cell_type": "markdown",
   "metadata": {},
   "source": [
    "<div style=\"border:2px solid;margin:0 20px 0 20px\" ></div> \n",
    "\n",
    "```python\n",
    "from django.core.management.base import BaseCommand\n",
    "from django.db import connections\n",
    "from django.db.utils import OperationalError\n",
    "import time\n",
    "\n",
    "\n",
    "class Command(BaseCommand):\n",
    "    \"\"\" Django command to pause execution until database is available\"\"\"\n",
    "    def handle(self, *args, **kwargs):\n",
    "        self.stdout.write('waiting for db ...')\n",
    "        db_conn = None\n",
    "        while not db_conn:\n",
    "            try:\n",
    "                # get the database with keyword 'default' from settings.py\n",
    "                db_conn = connections['default']\n",
    "                # prints success messge in green\n",
    "                self.stdout.write(self.style.SUCCESS('db available'))\n",
    "            except OperationalError:\n",
    "                self.stdout.write(\"Database unavailable, waiting 1 second ...\")\n",
    "                time.sleep(1)\n",
    "```\n",
    "<div style=\"border:2px solid;margin:0 20px 0 20px\" ></div> \n"
   ]
  },
  {
   "cell_type": "markdown",
   "metadata": {},
   "source": [
    "### Add command in docker-compose"
   ]
  },
  {
   "cell_type": "markdown",
   "metadata": {},
   "source": [
    "> Change the docker-compose command for **app** service as follows\n",
    "\n",
    "```yml\n",
    "    command: >\n",
    "      sh -c \"python manage.py wait_for_db &&\n",
    "             python manage.py migrate &&\n",
    "             python manage.py runserver 0.0.0.0:8000\"\n",
    "```\n"
   ]
  },
  {
   "cell_type": "markdown",
   "metadata": {},
   "source": [
    "> To run the server, hit\n",
    "```bash\n",
    "docker-compose up\n",
    "```\n",
    "> If super user was not already created, hit this command in a separate terminal and create a super user\n",
    "```bash\n",
    "docker-compose run app sh\n",
    "```"
   ]
  },
  {
   "cell_type": "code",
   "execution_count": null,
   "metadata": {},
   "outputs": [],
   "source": []
  }
 ],
 "metadata": {
  "kernelspec": {
   "display_name": "Python 3",
   "language": "python",
   "name": "python3"
  },
  "language_info": {
   "codemirror_mode": {
    "name": "ipython",
    "version": 3
   },
   "file_extension": ".py",
   "mimetype": "text/x-python",
   "name": "python",
   "nbconvert_exporter": "python",
   "pygments_lexer": "ipython3",
   "version": "3.4.3"
  }
 },
 "nbformat": 4,
 "nbformat_minor": 2
}
