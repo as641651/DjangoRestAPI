{
 "cells": [
  {
   "cell_type": "markdown",
   "metadata": {},
   "source": [
    "## Travis CI\n",
    "\n",
    "Travis CI is a tool that will **automatically run a script** (preferably some script to test) **when changes are pushed to github**"
   ]
  },
  {
   "cell_type": "markdown",
   "metadata": {},
   "source": [
    "> 1) Sign in with your git hub account at [TravisCI](https://travis-ci.org/) home page\n",
    "\n",
    "> 2) Select the git repositories for which travis-ci should be enabled (free only for public repos)"
   ]
  },
  {
   "cell_type": "markdown",
   "metadata": {},
   "source": [
    "> In your project folder root directory, add **.travis.yml** configuration file (in same directory as Dockerfile)\n",
    "\n",
    "<div style=\"border:2px solid;margin:0 50px 0 50px\" ></div> \n",
    "\n",
    "```yml\n",
    "language: python\n",
    "#The stable version of python with travis is 3.6\n",
    "# But we use 3.7 in out project. This does not matter\n",
    "# as we will be using travis only to run the docker image\n",
    "python:\n",
    "  - \"3.6\"\n",
    "\n",
    "services:\n",
    "  - docker\n",
    "\n",
    "before_script: pip install docker-compose\n",
    "\n",
    "# Defines what should be done automatically\n",
    "# If this exits with a failure, an email will be sent with bug report\n",
    "#flake8 is a linting tool that will analyse the code for potential errors\n",
    "script:\n",
    "  - docker-compose run app sh -c \"python manage.py test && flake8\"\n",
    "```\n",
    "<div style=\"border:2px solid;margin:0 50px 0 50px\" ></div> "
   ]
  },
  {
   "cell_type": "markdown",
   "metadata": {},
   "source": [
    "> This script will run the **test** and **linting** after every commit"
   ]
  },
  {
   "cell_type": "markdown",
   "metadata": {},
   "source": [
    "### Linting\n",
    "\n",
    "Linting tools are used to analyse the code for potential errors\n",
    "\n",
    "> 1) Add **flake8==3.6.0** in **requirements.txt**\n",
    "\n",
    "> 2) Add flake8 config file **.flake8** in the same directory as **manage.py** file (aka the working directory of Docker container)\n",
    "\n",
    "<div style=\"border:2px solid;margin:0 50px 0 50px\" ></div> \n",
    "\n",
    "```bash\n",
    "    [flake8]\n",
    "    # exclude these directories for linting checks\n",
    "    exclude =\n",
    "      migrations,\n",
    "      __pycache__,\n",
    "      manage.py,\n",
    "      settings.py\n",
    "\n",
    "```\n",
    "<div style=\"border:2px solid;margin:0 50px 0 50px\" ></div> \n",
    "\n",
    "> 3) Execution of flake8 is included in travisCI script\n",
    "```bash\n",
    "python manage.py test && flake8\n",
    "```"
   ]
  },
  {
   "cell_type": "markdown",
   "metadata": {},
   "source": [
    "### On pushing\n",
    "\n",
    "Whenever new code is pushed to this repository,\n",
    "\n",
    "> 1) A new travis server is spawned \n",
    "\n",
    "> 2) The travis config file is executed\n",
    "\n",
    "> 3) The test might take some time depending on the resources available and execution time of our project\n",
    "\n",
    "> 4) Once the test is finished, the status is sent to the registered github email address\n",
    "\n",
    "> 5) The status of the test or test history can be checked from travis account\n",
    "\n",
    "<img src=\"files/travis.png\" />"
   ]
  },
  {
   "cell_type": "code",
   "execution_count": null,
   "metadata": {},
   "outputs": [],
   "source": []
  }
 ],
 "metadata": {
  "kernelspec": {
   "display_name": "Python 3",
   "language": "python",
   "name": "python3"
  },
  "language_info": {
   "codemirror_mode": {
    "name": "ipython",
    "version": 3
   },
   "file_extension": ".py",
   "mimetype": "text/x-python",
   "name": "python",
   "nbconvert_exporter": "python",
   "pygments_lexer": "ipython3",
   "version": "3.4.3"
  }
 },
 "nbformat": 4,
 "nbformat_minor": 2
}
