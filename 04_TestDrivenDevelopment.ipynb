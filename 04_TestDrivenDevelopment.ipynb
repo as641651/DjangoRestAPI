{
 "cells": [
  {
   "cell_type": "markdown",
   "metadata": {},
   "source": [
    "## Test driven development"
   ]
  },
  {
   "cell_type": "markdown",
   "metadata": {},
   "source": [
    "In TDD, we first implement the test case before implementing the functionality in actual code. Therefore, we **first write a test case that ll fail and then implement it**\n",
    "\n",
    "Consider the custom user model from previous sections and think of the functionalities we want to add\n",
    "\n",
    "> 1) email address shoud be lower case\n",
    "\n",
    "> 2) email address should not be empty\n",
    "\n",
    "> 3) ability to create super user"
   ]
  },
  {
   "cell_type": "markdown",
   "metadata": {},
   "source": [
    "### Test cases : Think how the functionality should be implemented here"
   ]
  },
  {
   "cell_type": "markdown",
   "metadata": {},
   "source": [
    "<div style=\"border:2px solid;margin:0 50px 0 50px\" ></div> \n",
    "\n",
    "```python\n",
    "    # checking case sensitive email\n",
    "    def test_new_user_email_normalized(self):\n",
    "        \"\"\"we want email field to be unique for users\n",
    "        But the second part of the email address is Case sensitive by Default\n",
    "        ie, xyz@gmail.com and xyz@GMAIL.COM will be unique values\n",
    "        So we change email to lower case\"\"\"\n",
    "\n",
    "        email = \"test@ABC.COM\"\n",
    "        user = get_user_model().objects.create_user(email, '1234')\n",
    "\n",
    "        self.assertEqual(user.email, email.lower())\n",
    "\n",
    "    # check if invalid Email raises ValueError\n",
    "    def test_new_user_invalid_email(self):\n",
    "        with self.assertRaises(ValueError):\n",
    "            get_user_model().objects.create_user(None, '1234')\n",
    "\n",
    "    # check if super user can be created\n",
    "    def test_create_new_superuser(self):\n",
    "        user = get_user_model().objects.create_superuser(\n",
    "            'aravind@gmail.com',\n",
    "            '1234'\n",
    "        )\n",
    "\n",
    "        self.assertTrue(user.is_superuser)\n",
    "        self.assertTrue(user.is_staff)\n",
    "```\n",
    "<div style=\"border:2px solid;margin:0 50px 0 50px\" ></div> "
   ]
  },
  {
   "cell_type": "markdown",
   "metadata": {},
   "source": [
    "### Add checks for email and create a method in UserManager to create superuser"
   ]
  },
  {
   "cell_type": "markdown",
   "metadata": {},
   "source": [
    "<div style=\"border:2px solid;margin:0 50px 0 50px\" ></div> \n",
    "\n",
    "```python\n",
    "    # Creating CUSTOM USER MODEL\n",
    "    class UserManager(BaseUserManager):\n",
    "        \"\"\"Default User model requires mandatory username field\n",
    "        But we dont want it that way. So we create custom User model\"\"\"\n",
    "\n",
    "        def create_user(self, email, password=None, **kwargs):\n",
    "            \"\"\"Creates and saves a new user and returns the user model\"\"\"\n",
    "\n",
    "            # this creates a model with mandatory email field\n",
    "            if not email:\n",
    "                raise ValueError('Usersmust have email')\n",
    "            # normalize_email is under BaseUSerManager.\n",
    "            # It makes just domain part of email to lower case\n",
    "            user = self.model(email=self.normalize_email(email), **kwargs)\n",
    "            user.set_password(password)\n",
    "            user.save(using=self._db)\n",
    "\n",
    "            return user\n",
    "\n",
    "        def create_superuser(self, email, password):\n",
    "            user = self.create_user(email, password)\n",
    "            user.is_staff = True\n",
    "            user.is_superuser = True\n",
    "            user.save(using=self._db)\n",
    "\n",
    "            return user\n",
    "```\n",
    "<div style=\"border:2px solid;margin:0 50px 0 50px\" ></div> "
   ]
  },
  {
   "cell_type": "code",
   "execution_count": null,
   "metadata": {},
   "outputs": [],
   "source": []
  }
 ],
 "metadata": {
  "kernelspec": {
   "display_name": "Python 3",
   "language": "python",
   "name": "python3"
  },
  "language_info": {
   "codemirror_mode": {
    "name": "ipython",
    "version": 3
   },
   "file_extension": ".py",
   "mimetype": "text/x-python",
   "name": "python",
   "nbconvert_exporter": "python",
   "pygments_lexer": "ipython3",
   "version": "3.4.3"
  }
 },
 "nbformat": 4,
 "nbformat_minor": 2
}
