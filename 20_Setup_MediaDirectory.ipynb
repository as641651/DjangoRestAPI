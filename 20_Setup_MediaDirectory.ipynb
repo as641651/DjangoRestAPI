{
 "cells": [
  {
   "cell_type": "markdown",
   "metadata": {},
   "source": [
    "## Setting up media directory"
   ]
  },
  {
   "cell_type": "markdown",
   "metadata": {},
   "source": [
    "> 1) Make directories for **media** and **static** files in **Dockerfile**\n",
    "\n",
    "> 2) Set **MEDIA_URL** and **MEDIA_ROOT** in **settings.py**\n",
    "\n",
    "> 3) Add **MEDIA_URL** and **MEDIA_ROOT** in **urls.py**"
   ]
  },
  {
   "cell_type": "markdown",
   "metadata": {},
   "source": [
    "### Make directories and set permissions\n",
    "\n",
    "```Dockerfile\n",
    "# Directories for storing media and static files\n",
    "# -p allows creation of sub-directories if not available\n",
    "RUN mkdir -p /vol/web/media\n",
    "RUN mkdir -p /vol/web/static\n",
    "# Create a user. -D represents this user can only run apps.\n",
    "# This is recommended. Otherwise, the image will be run from root account\n",
    "RUN adduser -D user\n",
    "# Give permission to user to access volume dirs\n",
    "RUN chown -R user:user /vol/\n",
    "# This means owner can do everything, but rest can only read and execute\n",
    "RUN chmod -R 755 /vol/web/\n",
    "# Switch to this user\n",
    "USER user\n",
    "```"
   ]
  },
  {
   "cell_type": "markdown",
   "metadata": {},
   "source": [
    "### Configure settings\n",
    "\n",
    "**In settings.py**\n",
    "\n",
    "```python\n",
    "# 0.0.0.0:8000/static points to all static files\n",
    "STATIC_URL = '/static/'\n",
    "# 0.0.0.0:8000/media points to all media files\n",
    "MEDIA_URL = '/media/'\n",
    "\n",
    "# Location to store media and static files\n",
    "MEDIA_ROOT = '/vol/web/media'\n",
    "STATIC_ROOT = '/vol/web/static'\n",
    "```"
   ]
  },
  {
   "cell_type": "markdown",
   "metadata": {},
   "source": [
    "### Map URLs\n",
    "\n",
    "**In urls.py**\n",
    "\n",
    "```python\n",
    "from django.contrib import admin\n",
    "from django.urls import path, include\n",
    "# to map static and media files\n",
    "from django.conf.urls.static import static\n",
    "from django.conf import settings\n",
    "\n",
    "urlpatterns = [\n",
    "    path('admin/', admin.site.urls),\n",
    "    path('api/user/', include('user.urls')),\n",
    "    path('api/recipe/', include('recipe.urls')),\n",
    "] + static(settings.MEDIA_URL, document_root=settings.MEDIA_ROOT)\n",
    "# append the media url and its root from settings\n",
    "```"
   ]
  },
  {
   "cell_type": "code",
   "execution_count": null,
   "metadata": {},
   "outputs": [],
   "source": []
  }
 ],
 "metadata": {
  "kernelspec": {
   "display_name": "Python 3",
   "language": "python",
   "name": "python3"
  },
  "language_info": {
   "codemirror_mode": {
    "name": "ipython",
    "version": 3
   },
   "file_extension": ".py",
   "mimetype": "text/x-python",
   "name": "python",
   "nbconvert_exporter": "python",
   "pygments_lexer": "ipython3",
   "version": "3.4.3"
  }
 },
 "nbformat": 4,
 "nbformat_minor": 2
}
