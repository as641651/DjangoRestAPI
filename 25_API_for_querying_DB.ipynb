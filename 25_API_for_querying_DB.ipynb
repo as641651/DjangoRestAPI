{
 "cells": [
  {
   "cell_type": "markdown",
   "metadata": {},
   "source": [
    "## API for querying database\n",
    "\n",
    "### A) API for filtering tags and ingredients in Recipe"
   ]
  },
  {
   "cell_type": "markdown",
   "metadata": {},
   "source": [
    " > 1) To make queries, make a **GET** request with **query parameters** in the **payload**"
   ]
  },
  {
   "cell_type": "markdown",
   "metadata": {},
   "source": [
    "```python\n",
    "        res = self.client.get(\n",
    "            RECIPES_URL,\n",
    "            {'tags': f'{tag1.id}',\n",
    "             'ingredients': f'{ingredient1.id}'}\n",
    "        )\n",
    "```"
   ]
  },
  {
   "cell_type": "markdown",
   "metadata": {},
   "source": [
    "> 2) Process the queries in the **get_queryset** method in the **RecipeViewset**"
   ]
  },
  {
   "cell_type": "markdown",
   "metadata": {},
   "source": [
    "<div style=\"border:2px solid;margin:0 20px 0 20px\" ></div> \n",
    "\n",
    "```python\n",
    "    # helper function\n",
    "    # _ prefix is used to indicate private function\n",
    "    def _params_to_int(self, qs):\n",
    "        \"\"\"convert a list of string IDs to ints\"\"\"\n",
    "        return [int(str_id) for str_id in qs.split(',')]\n",
    "\n",
    "    def get_queryset(self):\n",
    "        # filtering based on params in payload\n",
    "        # returns none if params are not available\n",
    "        tags = self.request.query_params.get('tags')\n",
    "        ingredients = self.request.query_params.get('ingredients')\n",
    "        queryset = self.queryset\n",
    "\n",
    "        if tags:\n",
    "            tag_ids = self._params_to_int(tags)\n",
    "            # djangos filter for attrs\n",
    "            queryset = queryset.filter(tags__id__in=tag_ids)\n",
    "        if ingredients:\n",
    "            ingredient_ids = self._params_to_int(ingredients)\n",
    "            queryset = queryset.filter(ingredients__id__in=ingredient_ids)\n",
    "\n",
    "        return queryset.filter(user=self.request.user)\n",
    "```\n",
    "<div style=\"border:2px solid;margin:0 20px 0 20px\" ></div> \n"
   ]
  },
  {
   "cell_type": "markdown",
   "metadata": {},
   "source": [
    "> ### API tests \n",
    "\n",
    "> In **test_rcipe_api.py**"
   ]
  },
  {
   "cell_type": "markdown",
   "metadata": {},
   "source": [
    "<div style=\"border:2px solid;margin:0 20px 0 20px\" ></div> \n",
    "\n",
    "```python\n",
    "    # test filtering recipes\n",
    "    def test_filter_recipes_by_tag(self):\n",
    "        recipe1 = sample_recipe(user=self.user, title='Thai veg curry')\n",
    "        recipe2 = sample_recipe(user=self.user, title='Italian Tahini')\n",
    "        tag1 = sample_tag(user=self.user, name='Vegan')\n",
    "        tag2 = sample_tag(user=self.user, name='Vegetarian')\n",
    "        recipe1.tags.add(tag1)\n",
    "        recipe2.tags.add(tag2)\n",
    "        recipe3 = sample_recipe(user=self.user, title='fish and chips')\n",
    "\n",
    "        res = self.client.get(\n",
    "            RECIPES_URL,\n",
    "            {'tags': f'{tag1.id}, {tag2.id}'}\n",
    "        )\n",
    "\n",
    "        serializer1 = RecipeSerializer(recipe1)\n",
    "        serializer2 = RecipeSerializer(recipe2)\n",
    "        serializer3 = RecipeSerializer(recipe3)\n",
    "\n",
    "        self.assertIn(serializer1.data, res.data)\n",
    "        self.assertIn(serializer2.data, res.data)\n",
    "        self.assertNotIn(serializer3.data, res.data)\n",
    "\n",
    "    # test filtering tags and ingredients\n",
    "    def test_filter_recipes_by_tag_and_ingredient(self):\n",
    "        recipe1 = sample_recipe(user=self.user, title='posh beans on toast')\n",
    "        recipe2 = sample_recipe(user=self.user, title='chicken cocoinote')\n",
    "        tag1 = sample_tag(user=self.user, name='veg')\n",
    "        tag2 = sample_tag(user=self.user, name='non veg')\n",
    "        ingredient1 = sample_ingredient(user=self.user, name='beans')\n",
    "        recipe1.tags.add(tag1)\n",
    "        recipe1.ingredients.add(ingredient1)\n",
    "        recipe2.tags.add(tag2)\n",
    "\n",
    "        res = self.client.get(\n",
    "            RECIPES_URL,\n",
    "            {'tags': f'{tag1.id}',\n",
    "             'ingredients': f'{ingredient1.id}'}\n",
    "        )\n",
    "\n",
    "        serializer1 = RecipeSerializer(recipe1)\n",
    "        serializer2 = RecipeSerializer(recipe2)\n",
    "\n",
    "        self.assertIn(serializer1.data, res.data)\n",
    "        self.assertNotIn(serializer2.data, res.data)\n",
    "```\n",
    "<div style=\"border:2px solid;margin:0 20px 0 20px\" ></div> \n"
   ]
  },
  {
   "cell_type": "markdown",
   "metadata": {},
   "source": [
    "### B) API for Filtering tags that are assined to some recipe"
   ]
  },
  {
   "cell_type": "markdown",
   "metadata": {},
   "source": [
    "In **TagsViewSet**"
   ]
  },
  {
   "cell_type": "markdown",
   "metadata": {},
   "source": [
    "<div style=\"border:2px solid;margin:0 20px 0 20px\" ></div> \n",
    "\n",
    "```python\n",
    "    def get_queryset(self):\n",
    "        assigned_only = bool(self.request.query_params.get('assigned_only'))\n",
    "        queryset = self.queryset\n",
    "        if assigned_only:\n",
    "            # Django also allows access of reverse relation in foreign keys\n",
    "            queryset = queryset.filter(recipe__isnull=False)\n",
    "        return queryset.filter(user=self.request.user).order_by('-name')\n",
    " ```\n",
    "<div style=\"border:2px solid;margin:0 20px 0 20px\" ></div> \n",
    " "
   ]
  },
  {
   "cell_type": "markdown",
   "metadata": {},
   "source": [
    "> ### API test\n",
    "\n",
    "> In **test_tags_api.py**"
   ]
  },
  {
   "cell_type": "markdown",
   "metadata": {},
   "source": [
    "<div style=\"border:2px solid;margin:0 20px 0 20px\" ></div> \n",
    "\n",
    "```python\n",
    "    # filter tags assigned to recipes\n",
    "    def test_retrieve_tags_assigned_to_recipes(self):\n",
    "        \"\"\"retrieve tags that are assigned to some recipe\"\"\"\n",
    "        tag1 = Tag.objects.create(user=self.user, name='Breakfast')\n",
    "        tag2 = Tag.objects.create(user=self.user, name='Lunch')\n",
    "        recipe = Recipe.objects.create(\n",
    "            title='Coriander egg toast',\n",
    "            time_miniutes=10,\n",
    "            price=3.00,\n",
    "            user=self.user\n",
    "        )\n",
    "        recipe.tags.add(tag1)\n",
    "\n",
    "        res = self.client.get(TAGS_URL, {'assigned_only': 1})\n",
    "\n",
    "        serializer1 = TagSerializer(tag1)\n",
    "        serializer2 = TagSerializer(tag2)\n",
    "\n",
    "        self.assertIn(serializer1.data, res.data)\n",
    "        self.assertNotIn(serializer2.data, res.data)\n",
    "```\n",
    "<div style=\"border:2px solid;margin:0 20px 0 20px\" ></div> \n"
   ]
  },
  {
   "cell_type": "code",
   "execution_count": null,
   "metadata": {},
   "outputs": [],
   "source": []
  }
 ],
 "metadata": {
  "kernelspec": {
   "display_name": "Python 3",
   "language": "python",
   "name": "python3"
  },
  "language_info": {
   "codemirror_mode": {
    "name": "ipython",
    "version": 3
   },
   "file_extension": ".py",
   "mimetype": "text/x-python",
   "name": "python",
   "nbconvert_exporter": "python",
   "pygments_lexer": "ipython3",
   "version": "3.4.3"
  }
 },
 "nbformat": 4,
 "nbformat_minor": 2
}
