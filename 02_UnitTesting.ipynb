{
 "cells": [
  {
   "cell_type": "markdown",
   "metadata": {},
   "source": [
    "## Unit Testing\n",
    "\n",
    "This is used for testing if our classes and methods work in the way we desire all the time\n"
   ]
  },
  {
   "cell_type": "markdown",
   "metadata": {},
   "source": [
    "**Use case scenario**\n",
    "\n",
    "> 1) Suppose we create a model class **User**\n",
    "\n",
    "> 2) After writing this model, we may want to check if we are able to create a new user successfully"
   ]
  },
  {
   "cell_type": "markdown",
   "metadata": {},
   "source": [
    "### Creating a unit test\n",
    "\n",
    "> 1) Create a class that extends **django.test.TestCase** and methods in this class starting with **test** will be executed when the following command is run\n",
    "```bash\n",
    "python manage.py test\n",
    "```\n",
    "\n",
    "> 2) Unit test cases should be implemented in files (or dirs) starting with **test**. "
   ]
  },
  {
   "cell_type": "markdown",
   "metadata": {},
   "source": [
    "**Example**\n",
    "\n",
    ">1) In File **tests/test_models.py**, we test if we are able to create a new user\n",
    "\n",
    "<div style=\"border:2px solid;margin:0 50px 0 50px\" ></div> \n",
    "\n",
    "```python\n",
    "    from django.test import TestCase\n",
    "    from django.contrib.auth import get_user_model\n",
    "\n",
    "\n",
    "    class ModelTests(TestCase):\n",
    "\n",
    "        def test_create_user_with_email_successful(self):\n",
    "            email = 'silent@retreat.com'\n",
    "            password = '1234'\n",
    "\n",
    "            # get_user_model() returns the default user model.\n",
    "            # If it has to return custom usermodel, create a new model\n",
    "            # and in settings.py Set AUTH_USER_MODEL pointing to custom model\n",
    "            user = get_user_model().objects.create_user(\n",
    "                email=email,\n",
    "                password=password\n",
    "            )\n",
    "\n",
    "            self.assertEqual(user.email, email)\n",
    "            self.assertTrue(user.check_password(password))\n",
    "\n",
    "```\n",
    "<div style=\"border:2px solid;margin:0 50px 0 50px\" ></div> "
   ]
  },
  {
   "cell_type": "markdown",
   "metadata": {},
   "source": [
    "> 2) Run\n",
    "```bash\n",
    "python manage.py test\n",
    "```\n",
    "> 3) This test will **fail** because **default user model** requires **mandatory Username field**. So we **cannot create user with email** alone\n",
    "\n",
    "> **Creating custom user mmodel will be seen in next section**"
   ]
  },
  {
   "cell_type": "code",
   "execution_count": null,
   "metadata": {},
   "outputs": [],
   "source": []
  }
 ],
 "metadata": {
  "kernelspec": {
   "display_name": "Python 3",
   "language": "python",
   "name": "python3"
  },
  "language_info": {
   "codemirror_mode": {
    "name": "ipython",
    "version": 3
   },
   "file_extension": ".py",
   "mimetype": "text/x-python",
   "name": "python",
   "nbconvert_exporter": "python",
   "pygments_lexer": "ipython3",
   "version": "3.4.3"
  }
 },
 "nbformat": 4,
 "nbformat_minor": 2
}
