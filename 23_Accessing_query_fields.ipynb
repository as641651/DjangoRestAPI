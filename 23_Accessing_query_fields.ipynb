{
 "cells": [
  {
   "cell_type": "markdown",
   "metadata": {},
   "source": [
    "## Accessing query params\n",
    "\n",
    "To access parameters passed along with the request, use the attribute **query_params** in **request** object\n",
    "\n",
    "> Eg, For the following payload from client\n",
    "```python\n",
    "self.client.get(URL,{'name':'aravind'}\n",
    "```\n",
    "> access in the server as,\n",
    "```python\n",
    "self.request.query_params.get('name')\n",
    "```\n"
   ]
  },
  {
   "cell_type": "code",
   "execution_count": null,
   "metadata": {},
   "outputs": [],
   "source": []
  }
 ],
 "metadata": {
  "kernelspec": {
   "display_name": "Python 3",
   "language": "python",
   "name": "python3"
  },
  "language_info": {
   "codemirror_mode": {
    "name": "ipython",
    "version": 3
   },
   "file_extension": ".py",
   "mimetype": "text/x-python",
   "name": "python",
   "nbconvert_exporter": "python",
   "pygments_lexer": "ipython3",
   "version": "3.4.3"
  }
 },
 "nbformat": 4,
 "nbformat_minor": 2
}
