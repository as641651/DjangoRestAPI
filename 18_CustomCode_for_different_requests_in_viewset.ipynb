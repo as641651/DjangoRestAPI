{
 "cells": [
  {
   "cell_type": "markdown",
   "metadata": {},
   "source": [
    "## Custom code for different requests in a viewset\n",
    "\n",
    "Django allows **customizing code based on action**. For eg, Different serializer can be returned for different GET action. Or run someother code following the operation\n",
    "\n",
    "```python\n",
    "class UserViewSet(viewsets.ViewSet):\n",
    "    \"\"\"\n",
    "    Example empty viewset demonstrating the standard\n",
    "    actions that will be handled by a router class.\n",
    "    \"\"\"\n",
    "\n",
    "    # GET request without id\n",
    "    def list(self, request):\n",
    "        pass\n",
    "\n",
    "    # POST request\n",
    "    def create(self, request):\n",
    "        pass\n",
    "\n",
    "    # GET request with id\n",
    "    def retrieve(self, request, pk=None):\n",
    "        pass\n",
    "\n",
    "    # PUT request with id\n",
    "    def update(self, request, pk=None):\n",
    "        pass\n",
    "\n",
    "    # PATCH request with id\n",
    "    def partial_update(self, request, pk=None):\n",
    "        pass\n",
    "\n",
    "    # DELETE request with id\n",
    "    def destroy(self, request, pk=None):\n",
    "        pass\n",
    "```\n",
    "\n",
    "### Current action\n",
    "\n",
    "> Current action can be retrived with the following attribute\n",
    "```python\n",
    "self.action\n",
    "```"
   ]
  },
  {
   "cell_type": "markdown",
   "metadata": {},
   "source": [
    "### Accessing the object ID\n",
    "\n",
    "> Use the **recipe-detail** tag with **id as arg**\n",
    "```python\n",
    "def detail_url(recipe_id):\n",
    "    return reverse(\"recipe:recipe-detail\", args=[recipe_id])\n",
    "```"
   ]
  },
  {
   "cell_type": "markdown",
   "metadata": {},
   "source": [
    "### Changing serializer class and writing custom code based on action\n",
    "\n",
    "> To allow views to **accept urls with ids**, extend your view from **ModelViewSet** (Generic viewset with all request Mixins)\n",
    "\n",
    "> Override **get_serializer_class** in the **ModelViewSet** to change serializers based on action"
   ]
  },
  {
   "cell_type": "markdown",
   "metadata": {},
   "source": [
    "<div style=\"border:2px solid;margin:0 20px 0 20px\" ></div> \n",
    "\n",
    "```python\n",
    "# Extend from 'ModelViewSet' to allow urls with id\n",
    "class RecipeViewSet(viewsets.ModelViewSet):\n",
    "    \"\"\"Manage recipes in the database\"\"\"\n",
    "    authentication_classes = (TokenAuthentication,)\n",
    "    permission_classes = (IsAuthenticated,)\n",
    "\n",
    "    serializer_class = serializers.RecipeSerializer\n",
    "    queryset = Recipe.objects.all()\n",
    "\n",
    "    # django allows to change serializers depending on action\n",
    "    # we can have differernt serializer for list and detail views\n",
    "    # for this, we have to override this function\n",
    "    def get_serializer_class(self):\n",
    "        if self.action == 'retrieve':\n",
    "            return serializers.RecipeDetailSerializer\n",
    "        return self.serializer_class\n",
    "\n",
    "    def get_queryset(self):\n",
    "        return self.queryset.filter(user=self.request.user)\n",
    "\n",
    "    def perform_create(self, serializer):\n",
    "        serializer.save(user=self.request.user)\n",
    "    \n",
    "    # write custom code when GET without id is called\n",
    "    def list(self, request):\n",
    "        print(\"GET without id\")\n",
    "        return super().list(request)\n",
    "\n",
    "    # write custom code when GET with ID is called\n",
    "    def retrieve(self, request, pk):\n",
    "        print(\"GET with id\")\n",
    "        return super().retrieve(request, pk)\n",
    "```\n",
    "<div style=\"border:2px solid;margin:0 20px 0 20px\" ></div> "
   ]
  },
  {
   "cell_type": "code",
   "execution_count": null,
   "metadata": {},
   "outputs": [],
   "source": []
  }
 ],
 "metadata": {
  "kernelspec": {
   "display_name": "Python 3",
   "language": "python",
   "name": "python3"
  },
  "language_info": {
   "codemirror_mode": {
    "name": "ipython",
    "version": 3
   },
   "file_extension": ".py",
   "mimetype": "text/x-python",
   "name": "python",
   "nbconvert_exporter": "python",
   "pygments_lexer": "ipython3",
   "version": "3.4.3"
  }
 },
 "nbformat": 4,
 "nbformat_minor": 2
}
