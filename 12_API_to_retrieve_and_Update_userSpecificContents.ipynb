{
 "cells": [
  {
   "cell_type": "markdown",
   "metadata": {},
   "source": [
    "## API to retrieve and update users"
   ]
  },
  {
   "cell_type": "markdown",
   "metadata": {},
   "source": [
    "### Example of an API that uses GET and PATCH / PUT\n",
    "\n",
    "> When using **PUT**, all the fields should be sent to the API for update. When using **PATCH**, not all fields are required for update. The fields not in the payload are not edited"
   ]
  },
  {
   "cell_type": "markdown",
   "metadata": {},
   "source": [
    "### What should this API do?\n",
    "\n",
    "> 1) Should allow only authenticated user to retrive specific fields (**set permission and authentication classes in the view** and define **get** method. Specify the fields to be returned in UserSerializer) \n",
    "\n",
    "> 2) Should not allow POST call (**extend from RetrieveAndUpdateView**)\n",
    "\n",
    "> 3) Allow updates from authenticated users (define **update method** in **UserSerializer**)"
   ]
  },
  {
   "cell_type": "markdown",
   "metadata": {},
   "source": [
    "<div style=\"border:2px solid;margin:0 20px 0 20px\" ></div> \n",
    "\n",
    "```python\n",
    "rom django.test import TestCase\n",
    "from django.contrib.auth import get_user_model\n",
    "from django.urls import reverse\n",
    "from rest_framework.test import APIClient\n",
    "from rest_framework import status\n",
    "\n",
    "ME_URL = reverse(\"user:me\")\n",
    "\n",
    "\n",
    "def create_user(**kwargs):\n",
    "    return get_user_model().objects.create_user(**kwargs)\n",
    "\n",
    "\n",
    "class PrivateUsersApiTests(TestCase):\n",
    "    \"\"\"Test API requests that require authentication\"\"\"\n",
    "\n",
    "    def setUp(self):\n",
    "        self.user = create_user(\n",
    "            email='test@test.com',\n",
    "            password='testpass',\n",
    "            name='name'\n",
    "        )\n",
    "\n",
    "        self.client = APIClient()\n",
    "\n",
    "    # test that authentication is required for users\n",
    "    def test_retrieve_user_unautherized(self):\n",
    "        \"\"\" Test that authentication is required for users\"\"\"\n",
    "        res = self.client.get(ME_URL)\n",
    "        self.assertEqual(res.status_code, status.HTTP_401_UNAUTHORIZED)\n",
    "\n",
    "    # Test retrieving profile for logged in user\n",
    "    # Also test if the response contain the expected data\n",
    "    def test_retrieve_profile_successful(self):\n",
    "        # log in client\n",
    "        self.client.force_authenticate(user=self.user)\n",
    "        res = self.client.get(ME_URL)\n",
    "\n",
    "        self.assertEqual(res.status_code, status.HTTP_200_OK)\n",
    "        self.assertEqual(res.data, {\n",
    "            'name': self.user.name,\n",
    "            'email': self.user.email\n",
    "        })\n",
    "\n",
    "    # Test if post if not allowed in to this api\n",
    "    def test_post_me_not_allowed(self):\n",
    "        self.client.force_authenticate(user=self.user)\n",
    "        res = self.client.post(ME_URL, {})\n",
    "\n",
    "        self.assertEqual(res.status_code, status.HTTP_405_METHOD_NOT_ALLOWED)\n",
    "\n",
    "    # test update user profile\n",
    "    def test_update_user_profile(self):\n",
    "        self.client.force_authenticate(user=self.user)\n",
    "        payload = {'name': 'new name', 'password': 'new pass'}\n",
    "        # with patch you can just send the fields to be updated.\n",
    "        # other fields wont be affected.\n",
    "        # with PUT you have to send the entire record\n",
    "        res = self.client.patch(ME_URL, payload)\n",
    "        self.user.refresh_from_db()\n",
    "\n",
    "        self.assertEqual(self.user.name, payload['name'])\n",
    "        self.assertTrue(self.user.check_password(payload['password']))\n",
    "        self.assertEqual(res.status_code, status.HTTP_200_OK)\n",
    "```\n",
    "<div style=\"border:2px solid;margin:0 20px 0 20px\" ></div> \n"
   ]
  },
  {
   "cell_type": "markdown",
   "metadata": {},
   "source": [
    "### Implementation of API"
   ]
  },
  {
   "cell_type": "markdown",
   "metadata": {},
   "source": [
    "> Modify **UserSerializer** class to have **update method**"
   ]
  },
  {
   "cell_type": "markdown",
   "metadata": {},
   "source": [
    "<div style=\"border:2px solid;margin:0 20px 0 20px\" ></div> \n",
    "\n",
    "```python\n",
    "\n",
    "# This serializer is for for an API that will add data to a model\n",
    "class UserSerializer(serializers.ModelSerializer):\n",
    "    \"\"\"serializer for user object\"\"\"\n",
    "\n",
    "    class Meta:\n",
    "        model = get_user_model()\n",
    "        fields = ('email', 'password', 'name')\n",
    "\n",
    "        # the password should be write only.\n",
    "        # it should not be serialized when get is called\n",
    "        # we specify extra kwargs for each field\n",
    "        # list of accepted args for can be found under core argument section of\n",
    "        # https://www.django-rest-framework.org/api-guide/fields/\n",
    "        # for password field, args under serializer.CharField are also valid\n",
    "        extra_kwargs = {'password': {'write_only': True, 'min_length': 5}}\n",
    "\n",
    "    # create is called when we use the CreateAPI view\n",
    "    # which takes a POST request to create a user\n",
    "    def create(self, validated_data):\n",
    "        return get_user_model().objects.create_user(**validated_data)\n",
    "\n",
    "    # update a user, setting the password correctly and return it\n",
    "    def update(self, model_instance, validated_data):\n",
    "        # we have to upate password separately from other data\n",
    "        # so pop the password if it is available or return none as default\n",
    "        password = validated_data.pop('password', None)\n",
    "\n",
    "        # update all other fields in the model\n",
    "        user = super().update(model_instance, validated_data)\n",
    "        if password:\n",
    "            user.set_password(password)\n",
    "            user.save()\n",
    "\n",
    "        return user\n",
    "```\n",
    "<div style=\"border:2px solid;margin:0 20px 0 20px\" ></div> \n"
   ]
  },
  {
   "cell_type": "markdown",
   "metadata": {},
   "source": [
    "> Create a view that extends **RetrieveAndUpdateView** and define **get** method"
   ]
  },
  {
   "cell_type": "markdown",
   "metadata": {},
   "source": [
    "<div style=\"border:2px solid;margin:0 20px 0 20px\" ></div> \n",
    "\n",
    "```python\n",
    "# view for API retrieving and updating user info\n",
    "class ManageUserView(generics.RetrieveUpdateAPIView):\n",
    "    serializer_class = UserSerializer\n",
    "    authentication_classes = (authentication.TokenAuthentication,)\n",
    "    permission_classes = (permissions.IsAuthenticated,)\n",
    "\n",
    "    # retrieve and return authenticated user\n",
    "    # this method is also required for update (patch)\n",
    "    def get_object(self):\n",
    "        # authentication class assigns user to request\n",
    "        return self.request.user\n",
    "```\n",
    "<div style=\"border:2px solid;margin:0 20px 0 20px\" ></div> \n"
   ]
  },
  {
   "cell_type": "code",
   "execution_count": null,
   "metadata": {},
   "outputs": [],
   "source": []
  }
 ],
 "metadata": {
  "kernelspec": {
   "display_name": "Python 3",
   "language": "python",
   "name": "python3"
  },
  "language_info": {
   "codemirror_mode": {
    "name": "ipython",
    "version": 3
   },
   "file_extension": ".py",
   "mimetype": "text/x-python",
   "name": "python",
   "nbconvert_exporter": "python",
   "pygments_lexer": "ipython3",
   "version": "3.4.3"
  }
 },
 "nbformat": 4,
 "nbformat_minor": 2
}
