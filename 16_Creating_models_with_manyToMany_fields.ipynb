{
 "cells": [
  {
   "cell_type": "markdown",
   "metadata": {},
   "source": [
    "## Create model with Many to Many fields"
   ]
  },
  {
   "cell_type": "markdown",
   "metadata": {},
   "source": [
    "**Many to many** field is just a **repeatable foreign key field** (recall foreign key is a one to many field)"
   ]
  },
  {
   "cell_type": "markdown",
   "metadata": {},
   "source": [
    "### Recipe model\n",
    "\n",
    "> **Many to many** fields to **Tag** and **Ingredient**\n",
    "\n",
    "<div style=\"border:2px solid;margin:0 20px 0 20px\" ></div> \n",
    "\n",
    "```python\n",
    "class Recipe(models.Model):\n",
    "    \"\"\" Ingredient to be used in a recipe\"\"\"\n",
    "    # one to many: one user for many recipies\n",
    "    user = models.ForeignKey(\n",
    "        settings.AUTH_USER_MODEL,\n",
    "        on_delete=models.CASCADE\n",
    "    )\n",
    "    title = models.CharField(max_length=255)\n",
    "    time_miniutes = models.IntegerField()\n",
    "    price = models.DecimalField(max_digits=5, decimal_places=2)\n",
    "\n",
    "    # For optional fields, prefer blank over null.\n",
    "    # If we set null, then in the code we have to check\n",
    "    # for both null and empty str\n",
    "    link = models.CharField(max_length=255, blank=True)\n",
    "\n",
    "    # many to many field is just a repeatable foreign key field\n",
    "    ingredients = models.ManyToManyField('Ingredient')\n",
    "    tags = models.ManyToManyField('Tag')\n",
    "\n",
    "    def __str__(self):\n",
    "        return self.title\n",
    "```\n",
    "<div style=\"border:2px solid;margin:0 20px 0 20px\" ></div> \n"
   ]
  },
  {
   "cell_type": "markdown",
   "metadata": {},
   "source": [
    "### Creating objects of models with Many to Many fields\n",
    "\n",
    "> **Many to many fields** are initialized differently from other fields\n",
    "\n",
    "```python\n",
    "    recipe = Recipe.objects.create(user=self.user, title=\"sample\", time_minutes=5, price=5.0)\n",
    "\n",
    "    # using .add method\n",
    "    recipe.tags.add(Tag.objects.create(self.user, \"new tag\")\n",
    "\n",
    "    # using 'set' method, which takes in a query set\n",
    "    recipe.ingredients.set(Ingredients.objects.filter(user=self.user))\n",
    "```"
   ]
  },
  {
   "cell_type": "code",
   "execution_count": null,
   "metadata": {},
   "outputs": [],
   "source": []
  }
 ],
 "metadata": {
  "kernelspec": {
   "display_name": "Python 3",
   "language": "python",
   "name": "python3"
  },
  "language_info": {
   "codemirror_mode": {
    "name": "ipython",
    "version": 3
   },
   "file_extension": ".py",
   "mimetype": "text/x-python",
   "name": "python",
   "nbconvert_exporter": "python",
   "pygments_lexer": "ipython3",
   "version": "3.4.3"
  }
 },
 "nbformat": 4,
 "nbformat_minor": 2
}
