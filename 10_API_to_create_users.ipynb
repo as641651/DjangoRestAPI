{
 "cells": [
  {
   "cell_type": "markdown",
   "metadata": {},
   "source": [
    "## API to create users\n",
    "\n",
    "### Example of an API that uses POST data to add a new entry to database"
   ]
  },
  {
   "cell_type": "markdown",
   "metadata": {},
   "source": [
    "> 1) Create a new app **user**\n",
    "```bash\n",
    "python manage.py startapp user\n",
    "```\n",
    "\n",
    "> 2) Remove the following redandunt files\n",
    "```bash\n",
    "# all database stufffs will be in core app\n",
    "a) migrations folder \n",
    "b) models.py \n",
    "c) admin.py\n",
    "# remove test.py and create a directory test with __init__.py\n",
    "```\n",
    "\n",
    "> 3) Add **rest_framework** and **user** to **INSTALLED_APPS** in **settings.py**"
   ]
  },
  {
   "cell_type": "markdown",
   "metadata": {},
   "source": [
    "### What should this API do ?\n",
    "\n",
    "> For now, let us target for **an API that will manage creation of users** and **write testcases for each senario**\n",
    "\n",
    "> We ll use **rest_framework.test.APIClient** to simulate the API client\n",
    "\n",
    "> Remember, **users created in each test will not be saved to the actual db**. So for each test we have to create new users."
   ]
  },
  {
   "cell_type": "markdown",
   "metadata": {},
   "source": [
    "<div style=\"border:2px solid;margin:0 20px 0 20px\" ></div> \n",
    "\n",
    "```python\n",
    "from django.test import TestCase\n",
    "from django.contrib.auth import get_user_model\n",
    "from django.urls import reverse\n",
    "from rest_framework.test import APIClient\n",
    "from rest_framework import status\n",
    "\n",
    "\n",
    "CREATE_USER_URL = reverse(\"user:create\")\n",
    "\n",
    "\n",
    "def create_user(**kwargs):\n",
    "    return get_user_model().objects.create_user(**kwargs)\n",
    "\n",
    "\n",
    "# 'Public' because we dont check for authentication\n",
    "class PublicUserApiTests(TestCase):\n",
    "    \"\"\"Test the users API (public)\"\"\"\n",
    "\n",
    "    def setUp(self):\n",
    "        self.client = APIClient()\n",
    "\n",
    "    # test API call to create new user\n",
    "    def test_create_valid_user_success(self):\n",
    "        \"\"\"test creating user with valid payload\n",
    "        payload is a POST dict\"\"\"\n",
    "\n",
    "        payload = {\n",
    "            'email': 'test@test.com',\n",
    "            'password': 'testpass',\n",
    "            'name': 'tester'\n",
    "        }\n",
    "\n",
    "        # This call to API should create a new user\n",
    "        res = self.client.post(CREATE_USER_URL, payload)\n",
    "\n",
    "        # assert if the response is 201 created\n",
    "        self.assertEqual(res.status_code, status.HTTP_201_CREATED)\n",
    "        # get this user and check if password is correct\n",
    "        user = get_user_model().objects.get(**res.data)\n",
    "        self.assertTrue(user.check_password(payload['password']))\n",
    "        # assert that the password is not returned in the response data\n",
    "        self.assertNotIn('password', res.data)\n",
    "\n",
    "    # Test api when trying to create existing users\n",
    "    def test_user_exists(self):\n",
    "        # Note, the users created in previous test cases do not exist\n",
    "        payload = {'email': 'test@test.com', 'password': 'testpass'}\n",
    "        # create this user\n",
    "        create_user(**payload)\n",
    "\n",
    "        # try to create this user again with APIClient\n",
    "        res = self.client.post(CREATE_USER_URL, payload)\n",
    "        # assert that the response is 400\n",
    "        self.assertEqual(res.status_code, status.HTTP_400_BAD_REQUEST)\n",
    "\n",
    "    # Test if user is not created when password is too short\n",
    "    def test_password_too_short(self):\n",
    "        # Note, the users created in previous test cases do not exist\n",
    "        payload = {'email': 'test@test.com', 'password': 'tp'}\n",
    "        res = self.client.post(CREATE_USER_URL, payload)\n",
    "\n",
    "        # assert response failed\n",
    "        self.assertEqual(res.status_code, status.HTTP_400_BAD_REQUEST)\n",
    "\n",
    "        # assert user was not created\n",
    "        user_exists = get_user_model().objects.filter(\n",
    "            email=payload['email']\n",
    "        ).exists()\n",
    "        self.assertFalse(user_exists)\n",
    "```\n",
    "<div style=\"border:2px solid;margin:0 20px 0 20px\" ></div> \n"
   ]
  },
  {
   "cell_type": "markdown",
   "metadata": {},
   "source": [
    "### Implementing the API"
   ]
  },
  {
   "cell_type": "markdown",
   "metadata": {},
   "source": [
    "> 1) For an API to **create user**, we ll have to define a **serializer** for **user model**\n",
    "\n",
    "> 2) Create a new file named **serializers.py** under **user** app"
   ]
  },
  {
   "cell_type": "markdown",
   "metadata": {},
   "source": [
    "<div style=\"border:2px solid;margin:0 20px 0 20px\" ></div> \n",
    "\n",
    "```python\n",
    "from django.contrib.auth import get_user_model\n",
    "from rest_framework import serializers\n",
    "\n",
    "\n",
    "class UserSerializer(serializers.ModelSerializer):\n",
    "    \"\"\"serializer for user object\"\"\"\n",
    "\n",
    "    class Meta:\n",
    "        model = get_user_model()\n",
    "        fields = ('email', 'password', 'name')\n",
    "\n",
    "        # the password should be write only.\n",
    "        # it should not be serialized when get is called\n",
    "        # we specify extra kwargs for each field\n",
    "        # list of accepted args for can be found under core argument section of\n",
    "        # https://www.django-rest-framework.org/api-guide/fields/\n",
    "        # for password field, args under serializer.CharField are also valid\n",
    "        extra_kwargs = {'password': {'write_only': True, 'min_length': 5}}\n",
    "\n",
    "    # create is called when we use the CreateAPI view\n",
    "    # which takes a POST request to create a user\n",
    "    def create(self, validated_data):\n",
    "        return get_user_model().objects.create_user(**validated_data)\n",
    "```\n",
    "<div style=\"border:2px solid;margin:0 20px 0 20px\" ></div> \n"
   ]
  },
  {
   "cell_type": "markdown",
   "metadata": {},
   "source": [
    "> 3)  define a view to create users in **views.py**\n",
    "\n",
    "<div style=\"border:2px solid;margin:0 20px 0 20px\" ></div> \n",
    "\n",
    "```python\n",
    "from rest_framework import generics\n",
    "from user.serializers import UserSerializer\n",
    "\n",
    "\n",
    "# Create your views here.\n",
    "class CreateUserView(generics.CreateAPIView):\n",
    "    \"\"\"Create a new user\"\"\"\n",
    "    serializer_class = UserSerializer\n",
    "```\n",
    "\n",
    "<div style=\"border:2px solid;margin:0 20px 0 20px\" ></div> \n"
   ]
  },
  {
   "cell_type": "markdown",
   "metadata": {},
   "source": [
    "> 4) **create urls**\n",
    "\n",
    "<div style=\"border:2px solid;margin:0 20px 0 20px\" ></div>\n",
    "\n",
    "```python\n",
    "#user/urls.py\n",
    "from django.urls import path\n",
    "from user import views\n",
    "\n",
    "app_name = 'user'\n",
    "\n",
    "urlpatterns = [\n",
    "    path('create/', views.CreateUserView.as_view(), name='create'),\n",
    "]\n",
    "```\n",
    "<div style=\"border:2px solid;margin:0 20px 0 20px\" ></div>\n",
    "\n",
    "```python\n",
    "#app/urls.py\n",
    "urlpatterns = [\n",
    "    path('admin/', admin.site.urls),\n",
    "    path('api/user/', include('user.urls')),\n",
    "]\n",
    "```\n",
    "<div style=\"border:2px solid;margin:0 20px 0 20px\" ></div>"
   ]
  },
  {
   "cell_type": "markdown",
   "metadata": {},
   "source": [
    "> 5) On typing the url on the browser, (but this link should be called from client code with POST dict)\n",
    "\n",
    "<img src=\"files/createuserapi.png\" width=900px />"
   ]
  },
  {
   "cell_type": "code",
   "execution_count": null,
   "metadata": {},
   "outputs": [],
   "source": []
  }
 ],
 "metadata": {
  "kernelspec": {
   "display_name": "Python 3",
   "language": "python",
   "name": "python3"
  },
  "language_info": {
   "codemirror_mode": {
    "name": "ipython",
    "version": 3
   },
   "file_extension": ".py",
   "mimetype": "text/x-python",
   "name": "python",
   "nbconvert_exporter": "python",
   "pygments_lexer": "ipython3",
   "version": "3.4.3"
  }
 },
 "nbformat": 4,
 "nbformat_minor": 2
}
