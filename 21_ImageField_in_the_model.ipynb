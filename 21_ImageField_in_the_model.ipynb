{
 "cells": [
  {
   "cell_type": "markdown",
   "metadata": {},
   "source": [
    "## ImageField in the model"
   ]
  },
  {
   "cell_type": "markdown",
   "metadata": {},
   "source": [
    "### Requirements\n",
    "\n",
    "> **pip** (requirements.txt) : Pillow>=5.3.0,<5.4.0\n",
    "\n",
    "> **permanant dependencies** (added to dockerfile): jpeg-dev\n",
    "\n",
    "> **temporary dependencies** (added to dockerfile): musl-dev zlib zlib-dev"
   ]
  },
  {
   "cell_type": "markdown",
   "metadata": {},
   "source": [
    "### Add ImageField to model"
   ]
  },
  {
   "cell_type": "markdown",
   "metadata": {},
   "source": [
    "> 1) Add **ImageField** to **RecipeModel**\n",
    "\n",
    "> 2) Input to this field should be a **file object**\n",
    "\n",
    "> 3) Have to specify **upload_to** function, which will take the file object and **return a path**\n",
    "\n",
    "> 4) **uuid** is used to create a unique ID to the filename. Hence, when the same file is uploaded, it appears in different location"
   ]
  },
  {
   "cell_type": "markdown",
   "metadata": {},
   "source": [
    "```python\n",
    "# to create unique id for files\n",
    "import uuid\n",
    "import os\n",
    "\n",
    "\n",
    "def recipe_image_file_path(instance, filename):\n",
    "    \"\"\" generate filepath for new image\"\"\"\n",
    "    ext = filename.split('.')[-1]\n",
    "    # creates a unique id for the filename\n",
    "    filename = f'{uuid.uuid4()}.{ext}'\n",
    "\n",
    "    return os.path.join('uploads/recipe/', filename)\n",
    "\n",
    "\n",
    "class Recipe(models.Model):\n",
    "    ...\n",
    "    # Image field\n",
    "    # calls a function to find the file path\n",
    "    # Input to this field is a file object\n",
    "    image = models.ImageField(null=True, upload_to=recipe_image_file_path)\n",
    "```"
   ]
  },
  {
   "cell_type": "markdown",
   "metadata": {},
   "source": [
    "### Test\n",
    "\n",
    "```python\n",
    "class ImageManagerTest(TestCase):\n",
    "\n",
    "    # change image name with uuid for unique identification\n",
    "    @patch('uuid.uuid4')\n",
    "    def test_image_filename_uuid(self, mock_uuid):\n",
    "        # mock the generated uuid with test uuid\n",
    "        uuid = 'test-uuid'\n",
    "        mock_uuid.return_value = uuid\n",
    "        original_filename = 'myimage.jpg'\n",
    "        file_path = models.recipe_image_file_path(None, original_filename)\n",
    "        expected_path = f'uploads/recipe/{uuid}.jpg'\n",
    "\n",
    "        self.assertEqual(file_path, expected_path)\n",
    "```"
   ]
  },
  {
   "cell_type": "code",
   "execution_count": null,
   "metadata": {},
   "outputs": [],
   "source": []
  }
 ],
 "metadata": {
  "kernelspec": {
   "display_name": "Python 3",
   "language": "python",
   "name": "python3"
  },
  "language_info": {
   "codemirror_mode": {
    "name": "ipython",
    "version": 3
   },
   "file_extension": ".py",
   "mimetype": "text/x-python",
   "name": "python",
   "nbconvert_exporter": "python",
   "pygments_lexer": "ipython3",
   "version": "3.4.3"
  }
 },
 "nbformat": 4,
 "nbformat_minor": 2
}
