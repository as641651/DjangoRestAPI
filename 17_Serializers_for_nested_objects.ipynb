{
 "cells": [
  {
   "cell_type": "markdown",
   "metadata": {},
   "source": [
    "## Serializers for nested objects\n",
    "\n",
    "Quite model objects have other model objects as one of its fields.\n",
    "\n",
    "> 1) For a **list view**, we need a **serializer** where the **nested object points to its primary key** in parent object\n",
    "\n",
    "> 2) For a **detail view**,we need a **serializer** where we have to **point the fields to the relavant serializers**"
   ]
  },
  {
   "cell_type": "markdown",
   "metadata": {},
   "source": [
    "### Serializer which points the nested objects to its primary key"
   ]
  },
  {
   "cell_type": "markdown",
   "metadata": {},
   "source": [
    "<div style=\"border:2px solid;margin:0 20px 0 20px\" ></div> \n",
    "\n",
    "```python\n",
    "class RecipeSerializer(serializers.ModelSerializer):\n",
    "    \"\"\" Serializer for Recipe object \"\"\"\n",
    "\n",
    "    # specify the pointing fields for nested objects\n",
    "    # without these fields, CREATE fails. GET however works\n",
    "    ingredients = serializers.PrimaryKeyRelatedField(\n",
    "        many=True,\n",
    "        queryset=Ingredient.objects.all()\n",
    "    )\n",
    "\n",
    "    tags = serializers.PrimaryKeyRelatedField(\n",
    "        many=True,\n",
    "        queryset=Tag.objects.all()\n",
    "    )\n",
    "\n",
    "    class Meta:\n",
    "        model = Recipe\n",
    "        # ingredients and tag by default refer to its primary keys\n",
    "        fields = ('id', 'title', 'ingredients', 'tags',\n",
    "                  'time_miniutes', 'price', 'link')\n",
    "        read_only_fields = ('id',)\n",
    "```\n",
    "<div style=\"border:2px solid;margin:0 20px 0 20px\" ></div> "
   ]
  },
  {
   "cell_type": "markdown",
   "metadata": {},
   "source": [
    "### Serializer which points the nested objects to its own serializers"
   ]
  },
  {
   "cell_type": "markdown",
   "metadata": {},
   "source": [
    "<div style=\"border:2px solid;margin:0 20px 0 20px\" ></div> \n",
    "\n",
    "```python\n",
    "class RecipeDetailSerializer(serializers.ModelSerializer):\n",
    "    \"\"\" Serialize Recipe object \"\"\"\n",
    "    # Nesting serializers inside serializers\n",
    "    ingredients = IngredientSerializer(many=True, read_only=True)\n",
    "    tags = TagSerializer(many=True, read_only=True)\n",
    "    \n",
    "    class Meta:\n",
    "    model = Recipe\n",
    "    # ingredients and tag by default refer to its primary keys\n",
    "    fields = ('id', 'title', 'ingredients', 'tags',\n",
    "              'time_miniutes', 'price', 'link')\n",
    "    read_only_fields = ('id',)\n",
    "```\n",
    "<div style=\"border:2px solid;margin:0 20px 0 20px\" ></div> "
   ]
  },
  {
   "cell_type": "code",
   "execution_count": null,
   "metadata": {},
   "outputs": [],
   "source": []
  }
 ],
 "metadata": {
  "kernelspec": {
   "display_name": "Python 3",
   "language": "python",
   "name": "python3"
  },
  "language_info": {
   "codemirror_mode": {
    "name": "ipython",
    "version": 3
   },
   "file_extension": ".py",
   "mimetype": "text/x-python",
   "name": "python",
   "nbconvert_exporter": "python",
   "pygments_lexer": "ipython3",
   "version": "3.4.3"
  }
 },
 "nbformat": 4,
 "nbformat_minor": 2
}
