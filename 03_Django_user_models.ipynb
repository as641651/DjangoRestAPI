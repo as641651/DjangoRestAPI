{
 "cells": [
  {
   "cell_type": "markdown",
   "metadata": {},
   "source": [
    "## Django User Models\n",
    "\n",
    "### Default user model\n",
    "\n",
    "> 1) Django has a default usermodel automatically created.\n",
    "\n",
    "> 2) This can be viewed through the admin interface under the table name **User**\n",
    "\n",
    "> 3) Within the code, this model object can be accessed as\n",
    "```python\n",
    "from django.contrib.auth import get_user_model\n",
    "user = get_user_model()\n",
    "```\n",
    "> 4) To **create a new user**, (default usermodel requires mandatory username)\n",
    "```python\n",
    "        user = get_user_model().objects.create_user(\n",
    "            username=username,\n",
    "            password=password\n",
    "        )\n",
    "```"
   ]
  },
  {
   "cell_type": "markdown",
   "metadata": {},
   "source": [
    "### Custom user model\n",
    "\n",
    "Most of the time, we may want to differ from the default user model. For eg, we may want to add extra fields, or make email mandatory instead of username\n",
    "\n",
    "> 1) For this, we create a **new model class** extending **django.contrib.auth.models.AbstractBaseUser** and **django.contrib.auth.models.PermissionMixin**\n",
    "\n",
    "> 2) In this class, we have to set the attribute **object** to a **UserManager** class which defines a model with mandatory fields. We should then add method **create_user** to this class and we should be able to create new user as\n",
    "```bash\n",
    "User.object.create_user('xyz@am.com','1234')\n",
    "```"
   ]
  },
  {
   "cell_type": "markdown",
   "metadata": {},
   "source": [
    "<div style=\"border:2px solid;margin:0 50px 0 50px\" ></div> \n",
    "\n",
    "```python\n",
    "    from django.db import models\n",
    "    from django.contrib.auth.models import AbstractBaseUser, BaseUserManager, \\\n",
    "                                                PermissionsMixin\n",
    "\n",
    "\n",
    "    # Creating CUSTOM USER MODEL\n",
    "    class UserManager(BaseUserManager):\n",
    "        \"\"\"Default User model requires mandatory username field\n",
    "        But we dont want it that way. So we create custom User model\"\"\"\n",
    "\n",
    "        def create_user(self, email, password=None, **kwargs):\n",
    "            \"\"\"Creates and saves a new user and returns the user model\"\"\"\n",
    "\n",
    "            user = self.model(email=email, **kwargs)\n",
    "            user.set_password(password)\n",
    "            user.save(using=self._db)\n",
    "\n",
    "            return user\n",
    "\n",
    "\n",
    "    class User(AbstractBaseUser, PermissionsMixin):\n",
    "        \"\"\"Custom user model that supports using email instead of password\"\"\"\n",
    "\n",
    "        ##all the fields we ll need\n",
    "        email = models.EmailField(max_length=255, unique=True)\n",
    "        name = models.CharField(max_length=255)\n",
    "        is_active = models.BooleanField(default=True)\n",
    "        is_staff = models.BooleanField(default=False)\n",
    "\n",
    "        objects = UserManager()\n",
    "\n",
    "        USERNAME_FIELD = 'email'\n",
    "```\n",
    "<div style=\"border:2px solid;margin:0 50px 0 50px\" ></div> "
   ]
  },
  {
   "cell_type": "markdown",
   "metadata": {},
   "source": [
    "> 3) In **settings.py**, set\n",
    "```bash\n",
    "AUTH_USER_MODEL = 'APP_NAME.User'\n",
    "```"
   ]
  },
  {
   "cell_type": "markdown",
   "metadata": {},
   "source": [
    "**NOTE:** Email field is still not mandatory. We ll add this functionality in next section while explaining Test driven development "
   ]
  },
  {
   "cell_type": "code",
   "execution_count": null,
   "metadata": {},
   "outputs": [],
   "source": []
  }
 ],
 "metadata": {
  "kernelspec": {
   "display_name": "Python 3",
   "language": "python",
   "name": "python3"
  },
  "language_info": {
   "codemirror_mode": {
    "name": "ipython",
    "version": 3
   },
   "file_extension": ".py",
   "mimetype": "text/x-python",
   "name": "python",
   "nbconvert_exporter": "python",
   "pygments_lexer": "ipython3",
   "version": "3.4.3"
  }
 },
 "nbformat": 4,
 "nbformat_minor": 2
}
