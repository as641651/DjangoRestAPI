{
 "cells": [
  {
   "cell_type": "markdown",
   "metadata": {},
   "source": [
    "## View sets and Mixins\n",
    "\n",
    "### ViewSets\n",
    "\n",
    "> 1) **View sets** are used when dealing with multiple instances of a model. They are used when we intend to query or filter model objects\n",
    "\n",
    "> 2) We will create an API that does not include the **user** details in it, but lists tags corresponding to a specific user. That is, the following API\n",
    "```bash\n",
    "    /api/recipe/tags\n",
    "```\n",
    "> can be used by all users to get their tags and also post new tags"
   ]
  },
  {
   "cell_type": "markdown",
   "metadata": {},
   "source": [
    "### Mixins\n",
    "\n",
    "**Mixins** are extensions that can be **added to genericViewSet to allow for different requests**. We ll discuss more about writing custom code for each request in section 18\n",
    "\n",
    "> 1) **CreateModelMixin** allows for **POST** requests\n",
    "\n",
    "> 2) **ListModelMixin** allows a **GET** request for all the objects in the model\n",
    "\n",
    "> 3) **RetrieveModelMixin** allows for **GET** request **with specific primary key** (URL requires PK, Section 18)\n",
    "\n",
    "> 4) **UpdateModelMixin** allows for **PUT** requests (URL requries PK)\n",
    "\n",
    "> 5) **DestroyModelMixin** for **DELETE** requests (URL requires PK)\n",
    "\n",
    "To have a class which has all these mixins, extend from **ModelViewSet** (Section 18)"
   ]
  },
  {
   "cell_type": "markdown",
   "metadata": {},
   "source": [
    "### Demonstration : What should our API do?\n",
    "\n",
    "This is demonstrated with our new **Tag** model. We ll create an API that will,\n",
    "\n",
    "> 1) Let the authenticated user **create new tag** (add CreateModelMixin to genericViewSet extension)\n",
    "\n",
    "> 2) Let the authenticated user **list the tags created by that user** (add ListModelMixin to genericViewSet extension)\n",
    "\n",
    "> 3) To get a specific tag, add **RetrieveModelMixin**. This will allow for urls\n",
    "```bash\n",
    "    /api/recipe/tags/1\n",
    "```\n",
    "\n",
    "Tests are available in next section"
   ]
  },
  {
   "cell_type": "markdown",
   "metadata": {},
   "source": [
    "### Create serializer"
   ]
  },
  {
   "cell_type": "markdown",
   "metadata": {},
   "source": [
    "<div style=\"border:2px solid;margin:0 20px 0 20px\" ></div> \n",
    "\n",
    "```python\n",
    "from rest_framework import serializers\n",
    "from core.models import Tag\n",
    "\n",
    "\n",
    "class TagSerializer(serializers.ModelSerializer):\n",
    "    \"\"\"Serializer for tag object\"\"\"\n",
    "\n",
    "    class Meta:\n",
    "        model = Tag\n",
    "        fields = ('id', 'name')\n",
    "        read_only_fields = ('id',)\n",
    "\n",
    "    # create is not implemented here because\n",
    "    # the user which is needed to create Tag is not defined here\n",
    "```\n",
    "<div style=\"border:2px solid;margin:0 20px 0 20px\" ></div> \n"
   ]
  },
  {
   "cell_type": "markdown",
   "metadata": {},
   "source": [
    "### Create View\n",
    "\n",
    "> We ll use **viewsets**, which can then be used by a **router** to map to corresponding user\n",
    "\n",
    "> API **GET** call to this view should **list tags created by the authenticated user** (Use **ListModelMixin** and define **queryset**)\n",
    "\n",
    "> API **POST** call to this view should **create new tag** (Use **CreateModelMixin** and define **perform_create**)"
   ]
  },
  {
   "cell_type": "markdown",
   "metadata": {},
   "source": [
    "<div style=\"border:2px solid;margin:0 20px 0 20px\" ></div> \n",
    "\n",
    "```python\n",
    "from rest_framework import viewsets, mixins\n",
    "from rest_framework.authentication import TokenAuthentication\n",
    "from rest_framework.permissions import IsAuthenticated\n",
    "\n",
    "from core.models import Tag\n",
    "from recipe import serializers\n",
    "\n",
    "\n",
    "# viewset is used when dealing with multiple instances of a model.\n",
    "# viewset is used when we intend to query or filter model objects\n",
    "# /api/recepi/tags/ : mapped separately for each user\n",
    "class TagViewSet(viewsets.GenericViewSet,\n",
    "                 mixins.ListModelMixin,\n",
    "                 mixins.CreateModelMixin):\n",
    "    \"\"\"manage tags in the database\"\"\"\n",
    "    authentication_classes = (TokenAuthentication,)\n",
    "    permission_classes = (IsAuthenticated,)\n",
    "\n",
    "    queryset = Tag.objects.all()\n",
    "    serializer_class = serializers.TagSerializer\n",
    "\n",
    "    # This method should be overriden\n",
    "    # if we dont want to modify query set based on current instance attributes\n",
    "    def get_queryset(self):\n",
    "        return self.queryset.filter(user=self.request.user).order_by('-name')\n",
    "\n",
    "    # override this method for CreateModelMixin\n",
    "    # create operation is done here (unlike in UserModelSerializer)\n",
    "    # because serializer does not have user\n",
    "    # we pass user to serializer and save it\n",
    "    def perform_create(self, serializer):\n",
    "        serializer.save(user=self.request.user)\n",
    "```\n",
    "<div style=\"border:2px solid;margin:0 20px 0 20px\" ></div> "
   ]
  },
  {
   "cell_type": "markdown",
   "metadata": {},
   "source": [
    "### Map urls\n",
    "\n",
    "> Use **rest_framework.routers.DefaultRouter** to map URLs"
   ]
  },
  {
   "cell_type": "markdown",
   "metadata": {},
   "source": [
    "<div style=\"border:2px solid;margin:0 20px 0 20px\" ></div> \n",
    "\n",
    "```python\n",
    "from django.urls import path, include\n",
    "from rest_framework.routers import DefaultRouter\n",
    "from recipe import views\n",
    "\n",
    "app_name = 'recipe'\n",
    "\n",
    "# mapping the user to corresponding viewset\n",
    "router = DefaultRouter()\n",
    "#reverse url is 'recipe:tag-list'\n",
    "router.register('tags', views.TagViewSet)\n",
    "\n",
    "urlpatterns = [\n",
    "    path('', include(router.urls)),\n",
    "]\n",
    "```\n",
    "<div style=\"border:2px solid;margin:0 20px 0 20px\" ></div> "
   ]
  },
  {
   "cell_type": "code",
   "execution_count": null,
   "metadata": {},
   "outputs": [],
   "source": []
  }
 ],
 "metadata": {
  "kernelspec": {
   "display_name": "Python 3",
   "language": "python",
   "name": "python3"
  },
  "language_info": {
   "codemirror_mode": {
    "name": "ipython",
    "version": 3
   },
   "file_extension": ".py",
   "mimetype": "text/x-python",
   "name": "python",
   "nbconvert_exporter": "python",
   "pygments_lexer": "ipython3",
   "version": "3.4.3"
  }
 },
 "nbformat": 4,
 "nbformat_minor": 2
}
