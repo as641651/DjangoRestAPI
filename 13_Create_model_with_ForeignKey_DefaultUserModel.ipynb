{
 "cells": [
  {
   "cell_type": "markdown",
   "metadata": {},
   "source": [
    "## Create a model with Django UserModel as foreign key"
   ]
  },
  {
   "cell_type": "markdown",
   "metadata": {},
   "source": [
    "> To get the user model, we have to retrieve the **django user model from settings**\n",
    "\n",
    "> **Foreign key** is a **one to many field by default**. That is, **each record** of the table **tag** can have only **one user**. But **many records can have the same user**"
   ]
  },
  {
   "cell_type": "markdown",
   "metadata": {},
   "source": [
    "> In **core/models.py**\n",
    "\n",
    "<div style=\"border:2px solid;margin:0 20px 0 20px\" ></div> \n",
    "\n",
    "```python\n",
    "# recommended way to retrieve settings from settings.py\n",
    "from django.conf import settings\n",
    "\n",
    "class Tag(models.Model):\n",
    "    \"\"\" Tag to be set for a recipe\"\"\"\n",
    "    name = models.CharField(max_length=255)\n",
    "    user = models.ForeignKey(\n",
    "        settings.AUTH_USER_MODEL,\n",
    "        on_delete=models.CASCADE\n",
    "    )\n",
    "\n",
    "    def __str__(self):\n",
    "        return self.name\n",
    "```\n",
    "<div style=\"border:2px solid;margin:0 20px 0 20px\" ></div> \n"
   ]
  },
  {
   "cell_type": "markdown",
   "metadata": {},
   "source": [
    "> Make migrations\n",
    "```bash\n",
    "python manage.py makemigrations\n",
    "```\n",
    "\n",
    "> Register model in **admin.py**\n",
    "```python\n",
    "admin.site.register(models.Tag)\n",
    "```"
   ]
  },
  {
   "cell_type": "code",
   "execution_count": null,
   "metadata": {},
   "outputs": [],
   "source": []
  }
 ],
 "metadata": {
  "kernelspec": {
   "display_name": "Python 3",
   "language": "python",
   "name": "python3"
  },
  "language_info": {
   "codemirror_mode": {
    "name": "ipython",
    "version": 3
   },
   "file_extension": ".py",
   "mimetype": "text/x-python",
   "name": "python",
   "nbconvert_exporter": "python",
   "pygments_lexer": "ipython3",
   "version": "3.4.3"
  }
 },
 "nbformat": 4,
 "nbformat_minor": 2
}
