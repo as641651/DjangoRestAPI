{
 "cells": [
  {
   "cell_type": "markdown",
   "metadata": {},
   "source": [
    "## Django custom command"
   ]
  },
  {
   "cell_type": "markdown",
   "metadata": {},
   "source": [
    "It is possible to **run custom code from django project from shell** by passing it as an argument to manage.py\n",
    "\n",
    "```bash\n",
    "python manage.py CUSTOM_COMMAND\n",
    "```\n",
    "\n",
    "**Use case example** :\n",
    "\n",
    "> When we want to wait for database connection before running server"
   ]
  },
  {
   "cell_type": "markdown",
   "metadata": {},
   "source": [
    "To do this,\n",
    "\n",
    "> 1) **Create the following folder structure** inside your one of your application folder (say **core**)\n",
    "```bash\n",
    "core\n",
    "    management\n",
    "        __init__.py\n",
    "        commands\n",
    "            __init__.py\n",
    "            CUSTOM_COMMAND.py\n",
    "```"
   ]
  },
  {
   "cell_type": "markdown",
   "metadata": {},
   "source": [
    "> 2) In **CUSTOM_COMMAND.py**, define a class named **Command** extending from **django.core.management.base.BaseCommand** and define a method named **handle** inside the class\n",
    "\n",
    "<div style=\"border:2px solid;margin:0 20px 0 20px\" ></div> \n",
    "\n",
    "```python\n",
    "    from django.core.management.base import BaseCommand\n",
    "\n",
    "    class Command(BaseCommand):\n",
    "        \"\"\" Django command to pause execution until database is available\"\"\"\n",
    "        def handle(self, *args, **kwargs):\n",
    "            self.stdout.write(\"Custom command\")\n",
    "```\n",
    "<div style=\"border:2px solid;margin:0 20px 0 20px\" ></div> "
   ]
  },
  {
   "cell_type": "markdown",
   "metadata": {},
   "source": [
    "> 3) Now we can use the command\n",
    "```bash\n",
    "python manage.py CUSTOM_COMMAND\n",
    "```"
   ]
  },
  {
   "cell_type": "markdown",
   "metadata": {},
   "source": [
    "[Django doc](https://docs.djangoproject.com/en/2.1/howto/custom-management-commands/#module-django.core.management)"
   ]
  },
  {
   "cell_type": "code",
   "execution_count": null,
   "metadata": {},
   "outputs": [],
   "source": []
  }
 ],
 "metadata": {
  "kernelspec": {
   "display_name": "Python 3",
   "language": "python",
   "name": "python3"
  },
  "language_info": {
   "codemirror_mode": {
    "name": "ipython",
    "version": 3
   },
   "file_extension": ".py",
   "mimetype": "text/x-python",
   "name": "python",
   "nbconvert_exporter": "python",
   "pygments_lexer": "ipython3",
   "version": "3.4.3"
  }
 },
 "nbformat": 4,
 "nbformat_minor": 2
}
