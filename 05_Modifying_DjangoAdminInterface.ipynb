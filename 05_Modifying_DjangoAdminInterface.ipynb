{
 "cells": [
  {
   "cell_type": "markdown",
   "metadata": {},
   "source": [
    "## Modifying Django admin interface"
   ]
  },
  {
   "cell_type": "markdown",
   "metadata": {},
   "source": [
    "If we use **custom user model, the admin page must also be adapted for the changes**. The following changes have to be applied\n",
    "\n",
    "> 1) **Fields to be displayed** in the **users list** page\n",
    "\n",
    "> 2) **Fields to be displayed** in the **edit user** page\n",
    "\n",
    "> 3) **Fields needed** to **add user**"
   ]
  },
  {
   "cell_type": "markdown",
   "metadata": {},
   "source": [
    "### Test cases to check functionalities"
   ]
  },
  {
   "cell_type": "markdown",
   "metadata": {},
   "source": [
    "Find the urls of those 3 pages from django docs, and check if these page load properly (response 200)\n",
    "\n",
    "> 1) Users list page \n",
    "```python\n",
    "url = reverse('admin:core_user_changelist')\n",
    "```\n",
    "\n",
    ">2) Users edit page\n",
    "```python\n",
    "url = reverse('admin:core_user_change', args=[self.user.id])\n",
    "# /admin/core/user/1\n",
    "```\n",
    "\n",
    "> 3) Users add page\n",
    "```python\n",
    "url = reverse('admin:core_user_add')\n",
    "```"
   ]
  },
  {
   "cell_type": "markdown",
   "metadata": {},
   "source": [
    "<div style=\"border:2px solid;margin:0 20px 0 20px\" ></div> \n",
    "\n",
    "```python\n",
    "from django.test import TestCase, Client\n",
    "from django.contrib.auth import get_user_model\n",
    "from django.urls import reverse\n",
    "\n",
    "class AdminSiteTest(TestCase):\n",
    "\n",
    "    # Setup function is run before every test\n",
    "    # create a super user, log him in and create a normal user\n",
    "    def setUp(self):\n",
    "        \"\"\"Create a super user and log him in\n",
    "            Create a user\"\"\"\n",
    "        self.client = Client()\n",
    "        self.admin_user = get_user_model().objects.create_superuser(\n",
    "            email='aravind@gmail.com',\n",
    "            password='1234'\n",
    "        )\n",
    "        self.client.force_login(self.admin_user)\n",
    "        self.user = get_user_model().objects.create_user(\n",
    "            email='silent@retreat.com',\n",
    "            password='1234',\n",
    "            name='Test user name'\n",
    "        )\n",
    "\n",
    "    def test_users_listed(self):\n",
    "        \"\"\"Test that users are listed in user page.\n",
    "        We have to make changes to django admin to accomodate\n",
    "        ou custom user model\"\"\"\n",
    "\n",
    "        # These urls are listed in django admin docs\n",
    "        # Gets the URL that lists users in admin page\n",
    "        # have to register User model to admin for this url to work\n",
    "        url = reverse('admin:core_user_changelist')\n",
    "        response = self.client.get(url)\n",
    "\n",
    "        # AssertContains checks if certain value is present in a dict\n",
    "        # Also checks if the http respose is OK (200)\n",
    "        # name field is not available in default UserAdmin class\n",
    "        self.assertContains(response, self.user.name)\n",
    "\n",
    "    def test_user_page_change(self):\n",
    "        \"\"\" Test that user edit page works\"\"\"\n",
    "\n",
    "        # We have to include fieldssets to UserAdmin for this to work\n",
    "        url = reverse('admin:core_user_change', args=[self.user.id])\n",
    "        # /admin/core/user/1\n",
    "        response = self.client.get(url)\n",
    "\n",
    "        self.assertEqual(response.status_code, 200)\n",
    "\n",
    "    def test_create_user_page(self):\n",
    "        url = reverse('admin:core_user_add')\n",
    "        response = self.client.get(url)\n",
    "\n",
    "        self.assertEqual(response.status_code, 200)\n",
    "```\n",
    "<div style=\"border:2px solid;margin:0 20px 0 20px\" ></div> \n"
   ]
  },
  {
   "cell_type": "markdown",
   "metadata": {},
   "source": [
    "### Implementation.\n",
    "\n",
    "In **admin.py**, Create a class **UserAdmin** extending the default UserAdmin class**. Define the fields for the corresponding pages"
   ]
  },
  {
   "cell_type": "markdown",
   "metadata": {},
   "source": [
    "<div style=\"border:2px solid;margin:0 20px 0 20px\" ></div> \n",
    "\n",
    "```python\n",
    "from django.contrib import admin\n",
    "from django.contrib.auth.admin import UserAdmin as BaseUserAdmin\n",
    "from core import models\n",
    "# this hook is needed to make django projects translatable,\n",
    "# Wrap the texts with this if you want django to automatically translate\n",
    "from django.utils.translation import gettext as _\n",
    "\n",
    "\n",
    "# This class is used just for the admin interface.\n",
    "# Nothing changes except the way admin page looks\n",
    "class UserAdmin(BaseUserAdmin):\n",
    "    ordering = ['id']\n",
    "\n",
    "    # fields to be included in list users page\n",
    "    list_display = ['email', 'name']\n",
    "\n",
    "    # fields to be included on change user page (edit page)\n",
    "    fieldsets = (\n",
    "        (None, {'fields': ('email', 'password')}),\n",
    "        (_('Personal Info'), {'fields': ('name',)}),\n",
    "        (_('Permissions'),\n",
    "            {'fields': ('is_active', 'is_staff', 'is_superuser')}\n",
    "         ),\n",
    "        (_('Important dates'), {'fields': ('last_login',)})\n",
    "    )\n",
    "\n",
    "    # fields to be included in add user page\n",
    "    # therefore we can create a new user with email and password\n",
    "    add_fieldsets = (\n",
    "        (None, {\n",
    "            'classes': ('wide',),\n",
    "            'fields': ('email', 'password1', 'password2')\n",
    "        }),\n",
    "    )\n",
    "\n",
    "\n",
    "# If we use the default admin class, we dont have to pass the second parameter\n",
    "# Here we modified the default adin class\n",
    "admin.site.register(models.User, UserAdmin)\n",
    "```\n",
    "<div style=\"border:2px solid;margin:0 20px 0 20px\" ></div> \n"
   ]
  },
  {
   "cell_type": "markdown",
   "metadata": {},
   "source": [
    "### Page display"
   ]
  },
  {
   "cell_type": "markdown",
   "metadata": {},
   "source": [
    "#### List user page\n",
    "\n",
    "<img src=\"files/listuser.png\" />"
   ]
  },
  {
   "cell_type": "markdown",
   "metadata": {},
   "source": [
    "#### Edit user page\n",
    "\n",
    "<img src=\"files/changeuser.png\" />"
   ]
  },
  {
   "cell_type": "markdown",
   "metadata": {},
   "source": [
    "#### Add user page\n",
    "\n",
    "<img src=\"files/adduser.png\" />"
   ]
  },
  {
   "cell_type": "code",
   "execution_count": null,
   "metadata": {},
   "outputs": [],
   "source": []
  }
 ],
 "metadata": {
  "kernelspec": {
   "display_name": "Python 3",
   "language": "python",
   "name": "python3"
  },
  "language_info": {
   "codemirror_mode": {
    "name": "ipython",
    "version": 3
   },
   "file_extension": ".py",
   "mimetype": "text/x-python",
   "name": "python",
   "nbconvert_exporter": "python",
   "pygments_lexer": "ipython3",
   "version": "3.4.3"
  }
 },
 "nbformat": 4,
 "nbformat_minor": 2
}
