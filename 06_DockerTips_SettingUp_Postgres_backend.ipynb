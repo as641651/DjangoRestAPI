{
 "cells": [
  {
   "cell_type": "markdown",
   "metadata": {},
   "source": [
    "## Setting up Postgres DB backend"
   ]
  },
  {
   "cell_type": "markdown",
   "metadata": {},
   "source": [
    "### Installing dependencies in Dockerfile and keeping the Docker container small "
   ]
  },
  {
   "cell_type": "markdown",
   "metadata": {},
   "source": [
    "> 1) To use **postgres**, we need the following python dependency\n",
    "```python\n",
    "psycopg2>=2.7.5,<2.8.0\n",
    "```\n",
    ">2) Before installing **psycopg2**, we have to run the dependency installs in Dockerfile. \n",
    "\n",
    "> 3) We should also **remove the unwanted dependencies to keep the docker container small**. For eg, if we need gcc only for compiling and do not need it afterwards, gcc should be removed after installation."
   ]
  },
  {
   "cell_type": "markdown",
   "metadata": {},
   "source": [
    "### Structure of Dockerfile\n",
    "\n",
    "> 1) Install **permanant and temporary dependencies** in separate lines\n",
    "\n",
    "> 2) Delete temporary dependencies after the required build is complete "
   ]
  },
  {
   "cell_type": "markdown",
   "metadata": {},
   "source": [
    "<div style=\"border:2px solid;margin:0 20px 0 20px\" ></div> \n",
    "\n",
    "```Dockerfile\n",
    "# PERMANANT dependences\n",
    "# apk is the package manager that comes with alpine\n",
    "# --update : update registry before we add it\n",
    "# --no-cache: Do not store index locally. Used to keep container small\n",
    "RUN apk add --update --no-cache postgresql-client\n",
    "# TEMPORARY dependencies. Needed only for installing\n",
    "# --virtual: an alias which can be used to remove dependencies later\n",
    "# Eg. We need gcc to compile the program but do not need it later\n",
    "RUN apk add --update --no-cache --virtual .tmp-build-deps \\\n",
    "      gcc libc-dev linux-headers postgresql-dev\n",
    "\n",
    "RUN pip install -r /requirements.txt\n",
    "\n",
    "# Delete temporary dependencies\n",
    "RUN apk del .tmp-build-deps\n",
    "```\n",
    "\n",
    "<div style=\"border:2px solid;margin:0 20px 0 20px\" ></div> \n"
   ]
  },
  {
   "cell_type": "markdown",
   "metadata": {},
   "source": [
    "### Running postgres in a separate container and adding its dependency to main container"
   ]
  },
  {
   "cell_type": "markdown",
   "metadata": {},
   "source": [
    "We have to make the following changes in the **docker-compose.yml** and **settings.py**\n",
    "\n",
    ">1) Set up separate postgres service with image **postgres:10-alpine**\n",
    "\n",
    ">2) Set the **environment variable** to use postgres:10-alpine as specified in [documentation](https://hub.docker.com/_/postgres) \n",
    "\n",
    ">3) **Map the database volume in a level above the docker-compose.yml** file. Otherwise, build fails because of recusive search done by docker in child folders\n",
    "\n",
    "```yml\n",
    "      #database served as separate service\n",
    "      db:\n",
    "        image: postgres:10-alpine\n",
    "        volumes:\n",
    "          # dont have db in same level as docker-compose. otherwise build fails because of recursive search\n",
    "          - ../postgres:/var/lib/postgresql/data\n",
    "        environment:\n",
    "          - POSTGRES_DB=app\n",
    "          - POSTGRES_USER=uname\n",
    "          - POSTGRES_PASSWORD=password\n",
    "```"
   ]
  },
  {
   "cell_type": "markdown",
   "metadata": {},
   "source": [
    "> 3) Link the main service (**app**) to the database service using **depends_on** keyword\n",
    "\n",
    "> 4) Set up environment variables in main service, so that it can be passed on to **settings.py** to reflect changes\n",
    "\n",
    "```yml\n",
    "\n",
    "    # These environments will be used in settings.py\n",
    "    environment:\n",
    "      - DB_HOST=db\n",
    "      - DB_NAME=app\n",
    "      - DB_USER=uname\n",
    "      - DB_PASS=password\n",
    "    depends_on:\n",
    "      - db\n",
    "\n",
    "```"
   ]
  },
  {
   "cell_type": "markdown",
   "metadata": {},
   "source": [
    "> 5) In **settings.py** under **DATABASES**\n",
    "\n",
    "```python\n",
    "    # Database\n",
    "    # https://docs.djangoproject.com/en/2.1/ref/settings/#databases\n",
    "\n",
    "    DATABASES = {\n",
    "        'default': {\n",
    "            'ENGINE': 'django.db.backends.postgresql',\n",
    "            'HOST': os.environ.get('DB_HOST'),\n",
    "            'NAME': os.environ.get('DB_NAME'),\n",
    "            'USER': os.environ.get('DB_USER'),\n",
    "            'PASS': os.environ.get('DB_PASS'),\n",
    "        }\n",
    "    }\n",
    "```"
   ]
  },
  {
   "cell_type": "code",
   "execution_count": null,
   "metadata": {},
   "outputs": [],
   "source": []
  }
 ],
 "metadata": {
  "kernelspec": {
   "display_name": "Python 3",
   "language": "python",
   "name": "python3"
  },
  "language_info": {
   "codemirror_mode": {
    "name": "ipython",
    "version": 3
   },
   "file_extension": ".py",
   "mimetype": "text/x-python",
   "name": "python",
   "nbconvert_exporter": "python",
   "pygments_lexer": "ipython3",
   "version": "3.4.3"
  }
 },
 "nbformat": 4,
 "nbformat_minor": 2
}
