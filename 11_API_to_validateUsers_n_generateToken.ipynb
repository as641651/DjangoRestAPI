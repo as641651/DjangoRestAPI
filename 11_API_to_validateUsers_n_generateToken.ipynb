{
 "cells": [
  {
   "cell_type": "markdown",
   "metadata": {},
   "source": [
    "## API to generate authentication tokens\n",
    "\n",
    "### Example of an API that validates POST data and returns some value\n",
    "\n",
    "> Add **rest_framework.authtoken** to **INSTALLED_APPS** in **settings.py**\n",
    "\n",
    "\n",
    "### What should this API do?\n",
    "\n",
    "The API client may not want to send users ID and password for every request. In such cases, the **user may generate a token which will be used for authentication**\n",
    "\n",
    "> 1) The API should be able to **create token** only for **existing user**\n",
    "\n",
    "> 2) The API **should not create token** when provided with **invalid credentials**"
   ]
  },
  {
   "cell_type": "markdown",
   "metadata": {},
   "source": [
    "<div style=\"border:2px solid;margin:0 20px 0 20px\" ></div> \n",
    "\n",
    "```python\n",
    "from django.test import TestCase\n",
    "from django.contrib.auth import get_user_model\n",
    "from django.urls import reverse\n",
    "from rest_framework.test import APIClient\n",
    "from rest_framework import status\n",
    "\n",
    "TOKEN_URL = reverse(\"user:token\")\n",
    "\n",
    "\n",
    "def create_user(**kwargs):\n",
    "    return get_user_model().objects.create_user(**kwargs)\n",
    "\n",
    "\n",
    "class UserTokenTests(TestCase):\n",
    "    \"\"\"The API client may not want to send users ID and password\n",
    "        for every request. In such cases, the user may generate a token\n",
    "        which will be used for authentication\"\"\"\n",
    "\n",
    "    def setUp(self):\n",
    "        self.client = APIClient()\n",
    "\n",
    "    # test if token can be created successfully\n",
    "    # with valid creds for existing user\n",
    "    def test_create_token_for_user(self):\n",
    "        payload = {'email': 'test@test.com', 'password': 'testpass'}\n",
    "        create_user(**payload)\n",
    "        res = self.client.post(TOKEN_URL, payload)\n",
    "\n",
    "        self.assertIn('token', res.data)\n",
    "        self.assertEqual(res.status_code, status.HTTP_200_OK)\n",
    "\n",
    "    # test if token cannot be created with invalid credentials\n",
    "    def create_token_invalid_credentials(self):\n",
    "        create_user(email='test@test.com', password='testpass')\n",
    "        payload = {'email': 'test@test.com', 'password': 'wrong'}\n",
    "\n",
    "        res = self.client.post(TOKEN_URL, payload)\n",
    "\n",
    "        self.assertNotIn('token', res.data)\n",
    "        self.assertEqual(res.status_code, status.HTTP_400_BAD_REQUEST)\n",
    "\n",
    "    # test if token cannot be created for non existing user\n",
    "    def create_token_no_user(self):\n",
    "        payload = {'email': 'test@test.com', 'password': 'testpass'}\n",
    "        res = self.client.post(TOKEN_URL, payload)\n",
    "        self.assertNotIn('token', res.data)\n",
    "        self.assertEqual(res.status_code, status.HTTP_400_BAD_REQUEST)\n",
    "\n",
    "    # test if token is not created when a fied is left blank\n",
    "    def create_token_missing_field(self):\n",
    "        payload = {'email': 'test@test.com', 'password': 'testpass'}\n",
    "        create_user(**payload)\n",
    "        payload = {'email': 'test@test.com', 'password': ''}\n",
    "        res = self.client.post(TOKEN_URL, payload)\n",
    "        self.assertNotIn('token', res.data)\n",
    "        self.assertEqual(res.status_code, status.HTTP_400_BAD_REQUEST)\n",
    "```\n",
    "<div style=\"border:2px solid;margin:0 20px 0 20px\" ></div> \n"
   ]
  },
  {
   "cell_type": "markdown",
   "metadata": {},
   "source": [
    "### Implementing the API\n",
    "\n",
    "> 1) In **serializers.py**"
   ]
  },
  {
   "cell_type": "markdown",
   "metadata": {},
   "source": [
    "<div style=\"border:2px solid;margin:0 20px 0 20px\" ></div> \n",
    "\n",
    "```python\n",
    "from django.contrib.auth import authenticate\n",
    "from django.utils.translation import ugettext_lazy as _\n",
    "# Serializer can also be used without a model\n",
    "# Since this is not a model, we inherit from serializers.Serializer\n",
    "# This is for an API that will get some data from user, validate it\n",
    "# and return some value\n",
    "class AuthTokenSerializer(serializers.Serializer):\n",
    "    \"\"\"serializer for user authentication object\"\"\"\n",
    "    # create fields to get data for authentication\n",
    "    email = serializers.CharField()\n",
    "    password = serializers.CharField(\n",
    "                style={'input_type': 'password'},\n",
    "                trim_whitespace=False\n",
    "                )\n",
    "\n",
    "    # override validate method and raise exception if invalid\n",
    "    def validate(self, attrs):\n",
    "        # attrs contains all the serializer fields defined above\n",
    "        email = attrs.get('email')\n",
    "        password = attrs.get('password')\n",
    "\n",
    "        user = authenticate(\n",
    "                request=self.context.get('request'),\n",
    "                username=email,\n",
    "                password=password\n",
    "            )\n",
    "        if not user:\n",
    "            # we use gettext to enable language tranlation for this text\n",
    "            msg = _(\"Unable to authenticate with credentials provided\")\n",
    "            # pass correct code will raise the relavant http status code\n",
    "            raise serializers.ValidationError(msg, code='authentication')\n",
    "\n",
    "        attrs['user'] = user\n",
    "        return attrs\n",
    "```\n",
    "<div style=\"border:2px solid;margin:0 20px 0 20px\" ></div> \n"
   ]
  },
  {
   "cell_type": "markdown",
   "metadata": {},
   "source": [
    "> 2) In **views.py**"
   ]
  },
  {
   "cell_type": "markdown",
   "metadata": {},
   "source": [
    "<div style=\"border:2px solid;margin:0 20px 0 20px\" ></div> \n",
    "\n",
    "```python\n",
    "from rest_framework.authtoken.views import ObtainAuthToken\n",
    "from rest_framework.settings import api_settings\n",
    "\n",
    "# view for API validating user credentials and providing token\n",
    "class CreateTokenView(ObtainAuthToken):\n",
    "    serializer_class = AuthTokenSerializer\n",
    "    # class that will render this page\n",
    "    # works without this but does not create nice view in the browser\n",
    "    # as it did when extended from generic views\n",
    "    renderer_classes = api_settings.DEFAULT_RENDERER_CLASSES\n",
    "```\n",
    "<div style=\"border:2px solid;margin:0 20px 0 20px\" ></div> \n"
   ]
  },
  {
   "cell_type": "markdown",
   "metadata": {},
   "source": [
    "> 3) On typing the url on the browser, (but this link should be called from client code with POST dict)\n",
    "\n",
    "<img src=\"files/createtoken.png\" width=900px />"
   ]
  },
  {
   "cell_type": "markdown",
   "metadata": {},
   "source": [
    "> 4) This token will be stored and used for authentication (will be demonstrated in future sections)"
   ]
  },
  {
   "cell_type": "code",
   "execution_count": null,
   "metadata": {},
   "outputs": [],
   "source": []
  }
 ],
 "metadata": {
  "kernelspec": {
   "display_name": "Python 3",
   "language": "python",
   "name": "python3"
  },
  "language_info": {
   "codemirror_mode": {
    "name": "ipython",
    "version": 3
   },
   "file_extension": ".py",
   "mimetype": "text/x-python",
   "name": "python",
   "nbconvert_exporter": "python",
   "pygments_lexer": "ipython3",
   "version": "3.4.3"
  }
 },
 "nbformat": 4,
 "nbformat_minor": 2
}
